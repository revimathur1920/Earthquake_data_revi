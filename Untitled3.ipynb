{
  "nbformat": 4,
  "nbformat_minor": 0,
  "metadata": {
    "colab": {
      "provenance": [],
      "authorship_tag": "ABX9TyMeziSNofsHH4cA4YyWgjgT",
      "include_colab_link": true
    },
    "kernelspec": {
      "name": "python3",
      "display_name": "Python 3"
    },
    "language_info": {
      "name": "python"
    }
  },
  "cells": [
    {
      "cell_type": "markdown",
      "metadata": {
        "id": "view-in-github",
        "colab_type": "text"
      },
      "source": [
        "<a href=\"https://colab.research.google.com/github/revimathur1920/Earthquake_data_revi/blob/main/Untitled3.ipynb\" target=\"_parent\"><img src=\"https://colab.research.google.com/assets/colab-badge.svg\" alt=\"Open In Colab\"/></a>"
      ]
    },
    {
      "cell_type": "code",
      "execution_count": null,
      "metadata": {
        "colab": {
          "base_uri": "https://localhost:8080/",
          "height": 606
        },
        "id": "QOOwHP4U7gS2",
        "outputId": "d4560b8b-a4b7-4cb3-a9f9-d980e3e29db5"
      },
      "outputs": [
        {
          "output_type": "stream",
          "name": "stdout",
          "text": [
            "Looking in indexes: https://pypi.org/simple, https://us-python.pkg.dev/colab-wheels/public/simple/\n",
            "Collecting obspy\n",
            "  Downloading obspy-1.4.0-cp310-cp310-manylinux_2_17_x86_64.manylinux2014_x86_64.whl (14.5 MB)\n",
            "\u001b[2K     \u001b[90m━━━━━━━━━━━━━━━━━━━━━━━━━━━━━━━━━━━━━━━━\u001b[0m \u001b[32m14.5/14.5 MB\u001b[0m \u001b[31m23.7 MB/s\u001b[0m eta \u001b[36m0:00:00\u001b[0m\n",
            "\u001b[?25hRequirement already satisfied: numpy>=1.20 in /usr/local/lib/python3.10/dist-packages (from obspy) (1.22.4)\n",
            "Requirement already satisfied: scipy>=1.7 in /usr/local/lib/python3.10/dist-packages (from obspy) (1.10.1)\n",
            "Requirement already satisfied: matplotlib>=3.3 in /usr/local/lib/python3.10/dist-packages (from obspy) (3.7.1)\n",
            "Requirement already satisfied: lxml in /usr/local/lib/python3.10/dist-packages (from obspy) (4.9.2)\n",
            "Requirement already satisfied: setuptools in /usr/local/lib/python3.10/dist-packages (from obspy) (67.7.2)\n",
            "Requirement already satisfied: sqlalchemy in /usr/local/lib/python3.10/dist-packages (from obspy) (2.0.10)\n",
            "Requirement already satisfied: decorator in /usr/local/lib/python3.10/dist-packages (from obspy) (4.4.2)\n",
            "Requirement already satisfied: requests in /usr/local/lib/python3.10/dist-packages (from obspy) (2.27.1)\n",
            "Requirement already satisfied: contourpy>=1.0.1 in /usr/local/lib/python3.10/dist-packages (from matplotlib>=3.3->obspy) (1.0.7)\n",
            "Requirement already satisfied: cycler>=0.10 in /usr/local/lib/python3.10/dist-packages (from matplotlib>=3.3->obspy) (0.11.0)\n",
            "Requirement already satisfied: fonttools>=4.22.0 in /usr/local/lib/python3.10/dist-packages (from matplotlib>=3.3->obspy) (4.39.3)\n",
            "Requirement already satisfied: kiwisolver>=1.0.1 in /usr/local/lib/python3.10/dist-packages (from matplotlib>=3.3->obspy) (1.4.4)\n",
            "Requirement already satisfied: packaging>=20.0 in /usr/local/lib/python3.10/dist-packages (from matplotlib>=3.3->obspy) (23.1)\n",
            "Requirement already satisfied: pillow>=6.2.0 in /usr/local/lib/python3.10/dist-packages (from matplotlib>=3.3->obspy) (8.4.0)\n",
            "Requirement already satisfied: pyparsing>=2.3.1 in /usr/local/lib/python3.10/dist-packages (from matplotlib>=3.3->obspy) (3.0.9)\n",
            "Requirement already satisfied: python-dateutil>=2.7 in /usr/local/lib/python3.10/dist-packages (from matplotlib>=3.3->obspy) (2.8.2)\n",
            "Requirement already satisfied: urllib3<1.27,>=1.21.1 in /usr/local/lib/python3.10/dist-packages (from requests->obspy) (1.26.15)\n",
            "Requirement already satisfied: certifi>=2017.4.17 in /usr/local/lib/python3.10/dist-packages (from requests->obspy) (2022.12.7)\n",
            "Requirement already satisfied: charset-normalizer~=2.0.0 in /usr/local/lib/python3.10/dist-packages (from requests->obspy) (2.0.12)\n",
            "Requirement already satisfied: idna<4,>=2.5 in /usr/local/lib/python3.10/dist-packages (from requests->obspy) (3.4)\n",
            "Requirement already satisfied: typing-extensions>=4.2.0 in /usr/local/lib/python3.10/dist-packages (from sqlalchemy->obspy) (4.5.0)\n",
            "Requirement already satisfied: greenlet!=0.4.17 in /usr/local/lib/python3.10/dist-packages (from sqlalchemy->obspy) (2.0.2)\n",
            "Requirement already satisfied: six>=1.5 in /usr/local/lib/python3.10/dist-packages (from python-dateutil>=2.7->matplotlib>=3.3->obspy) (1.16.0)\n",
            "Installing collected packages: obspy\n",
            "Successfully installed obspy-1.4.0\n"
          ]
        },
        {
          "output_type": "display_data",
          "data": {
            "application/vnd.colab-display-data+json": {
              "pip_warning": {
                "packages": [
                  "signal"
                ]
              }
            }
          },
          "metadata": {}
        }
      ],
      "source": [
        "pip install obspy"
      ]
    },
    {
      "cell_type": "code",
      "source": [
        "import matplotlib.pyplot as plt\n",
        "from obspy import read\n",
        "from obspy.core import UTCDateTime\n",
        "from obspy.clients.fdsn import Client\n",
        "import pandas as pd\n",
        "import numpy as np\n",
        "from obspy import read_inventory, read_events, UTCDateTime\n",
        "from obspy.core.event import Catalog"
      ],
      "metadata": {
        "id": "W47aU-P18mIg"
      },
      "execution_count": null,
      "outputs": []
    },
    {
      "cell_type": "code",
      "source": [
        "import pandas as pd\n",
        "client = Client(\"USGS\")\n",
        "start_date = UTCDateTime(\"2012-01-01\")\n",
        "end_date = UTCDateTime(\"2012-12-31\")\n",
        "min_magnitude = 3.5\n",
        "max_magnitude = 9.5\n",
        "\n",
        "# Retrieve earthquake data\n",
        "catalog = client.get_events(starttime=start_date, endtime=end_date, minmagnitude=min_magnitude, maxmagnitude=max_magnitude)\n",
        "\n",
        "# Initialize lists for storing data\n",
        "magnitudes = []\n",
        "dates = []\n",
        "\n",
        "# Extract magnitudes and dates\n",
        "for event in catalog:\n",
        "    magnitude = event.magnitudes[0].mag\n",
        "    date = UTCDateTime(event.origins[0].time)\n",
        "    magnitudes.append(magnitude)\n",
        "    dates.append(date)\n",
        "\n",
        "# Calculate the number of earthquakes at each magnitude\n",
        "num_eqs = []\n",
        "magnitudes_unique = sorted(set(magnitudes))  # Unique magnitudes in ascending order\n",
        "#magnitude_unique = pd.cut(magnitudes_unique, 6, right=True, ordered=True)\n",
        "magnitude_unique = pd.cut(magnitudes_unique, bins=[3.5, 4.5, 5.5, 6.5, 7.5, 8.5, 9.5], include_lowest=True)\n",
        "#inal_magnitude = sorted(set(magnitude_unique))\n",
        "print(magnitude_unique)\n",
        "for mag in magnitudes_unique:\n",
        "    count = len([m for m in magnitudes if m==mag])\n",
        "    num_eqs.append(count)\n",
        "\n",
        "# Create a DataFrame\n",
        "df = pd.DataFrame({'Magnitudes': magnitude_unique, 'Number_of_Earthquakes':num_eqs})\n",
        "agg_functions = {'Number_of_Earthquakes': 'sum'}\n",
        "df1 = df.groupby(df['Magnitudes']).aggregate(agg_functions)\n",
        "df1.reset_index(level=0, inplace=True)\n",
        "# Print the DataFrame\n",
        "print(df1)"
      ],
      "metadata": {
        "id": "IQ0wrgRE8qTL",
        "colab": {
          "base_uri": "https://localhost:8080/"
        },
        "outputId": "82f365ec-79c9-49af-b5c4-32717fa29c12"
      },
      "execution_count": null,
      "outputs": [
        {
          "output_type": "stream",
          "name": "stdout",
          "text": [
            "[(3.499, 4.5], (3.499, 4.5], (3.499, 4.5], (3.499, 4.5], (3.499, 4.5], ..., (7.5, 8.5], (7.5, 8.5], (7.5, 8.5], (7.5, 8.5], (8.5, 9.5]]\n",
            "Length: 123\n",
            "Categories (6, interval[float64, right]): [(3.499, 4.5] < (4.5, 5.5] < (5.5, 6.5] < (6.5, 7.5] <\n",
            "                                           (7.5, 8.5] < (8.5, 9.5]]\n",
            "     Magnitudes  Number_of_Earthquakes\n",
            "0  (3.499, 4.5]                   7475\n",
            "1    (4.5, 5.5]                   5402\n",
            "2    (5.5, 6.5]                    313\n",
            "3    (6.5, 7.5]                     30\n",
            "4    (7.5, 8.5]                      5\n",
            "5    (8.5, 9.5]                      1\n"
          ]
        }
      ]
    },
    {
      "cell_type": "code",
      "source": [
        "import pandas as pd\n",
        "client = Client(\"USGS\")\n",
        "start_date = UTCDateTime(\"2013-01-01\")\n",
        "end_date = UTCDateTime(\"2013-12-31\")\n",
        "min_magnitude = 3.5\n",
        "max_magnitude = 9.5\n",
        "\n",
        "# Retrieve earthquake data\n",
        "catalog = client.get_events(starttime=start_date, endtime=end_date, minmagnitude=min_magnitude, maxmagnitude=max_magnitude)\n",
        "\n",
        "# Initialize lists for storing data\n",
        "magnitudes = []\n",
        "dates = []\n",
        "\n",
        "# Extract magnitudes and dates\n",
        "for event in catalog:\n",
        "    magnitude = event.magnitudes[0].mag\n",
        "    date = UTCDateTime(event.origins[0].time)\n",
        "    magnitudes.append(magnitude)\n",
        "    dates.append(date)\n",
        "\n",
        "# Calculate the number of earthquakes at each magnitude\n",
        "num_eqs = []\n",
        "magnitudes_unique = sorted(set(magnitudes))  # Unique magnitudes in ascending order\n",
        "#magnitude_unique = pd.cut(magnitudes_unique, 6, right=True, ordered=True)\n",
        "magnitude_unique = pd.cut(magnitudes_unique, bins=[3.5, 4.5, 5.5, 6.5, 7.5, 8.5, 9.5], include_lowest=True)\n",
        "final_magnitude = sorted(set(magnitude_unique))\n",
        "print(magnitude_unique)\n",
        "for mag in magnitudes_unique:\n",
        "    count = len([m for m in magnitudes if m==mag])\n",
        "    num_eqs.append(count)\n",
        "\n",
        "# Create a DataFrame\n",
        "df = pd.DataFrame({'Magnitudes': magnitude_unique, 'Number_of_Earthquakes':num_eqs})\n",
        "agg_functions = {'Number_of_Earthquakes': 'sum'}\n",
        "df2 = df.groupby(df['Magnitudes']).aggregate(agg_functions)\n",
        "df2.reset_index(level=0, inplace=True)\n",
        "# Print the DataFrame\n",
        "print(df2)"
      ],
      "metadata": {
        "id": "TlXUJN9OFbch",
        "colab": {
          "base_uri": "https://localhost:8080/"
        },
        "outputId": "e651da9d-c0b5-45d4-ce18-c8b880e82546"
      },
      "execution_count": null,
      "outputs": [
        {
          "output_type": "stream",
          "name": "stdout",
          "text": [
            "[(3.499, 4.5], (3.499, 4.5], (3.499, 4.5], (3.499, 4.5], (3.499, 4.5], ..., (6.5, 7.5], (6.5, 7.5], (7.5, 8.5], (7.5, 8.5], (7.5, 8.5]]\n",
            "Length: 100\n",
            "Categories (6, interval[float64, right]): [(3.499, 4.5] < (4.5, 5.5] < (5.5, 6.5] < (6.5, 7.5] <\n",
            "                                           (7.5, 8.5] < (8.5, 9.5]]\n",
            "     Magnitudes  Number_of_Earthquakes\n",
            "0  (3.499, 4.5]                   8521\n",
            "1    (4.5, 5.5]                   5244\n",
            "2    (5.5, 6.5]                    297\n",
            "3    (6.5, 7.5]                     39\n",
            "4    (7.5, 8.5]                      5\n",
            "5    (8.5, 9.5]                      0\n"
          ]
        }
      ]
    },
    {
      "cell_type": "code",
      "source": [
        "import pandas as pd\n",
        "client = Client(\"USGS\")\n",
        "start_date = UTCDateTime(\"2014-01-01\")\n",
        "end_date = UTCDateTime(\"2014-12-31\")\n",
        "min_magnitude = 3.5\n",
        "max_magnitude = 9.5\n",
        "\n",
        "# Retrieve earthquake data\n",
        "catalog = client.get_events(starttime=start_date, endtime=end_date, minmagnitude=min_magnitude, maxmagnitude=max_magnitude)\n",
        "\n",
        "# Initialize lists for storing data\n",
        "magnitudes = []\n",
        "dates = []\n",
        "\n",
        "# Extract magnitudes and dates\n",
        "for event in catalog:\n",
        "    magnitude = event.magnitudes[0].mag\n",
        "    date = UTCDateTime(event.origins[0].time)\n",
        "    magnitudes.append(magnitude)\n",
        "    dates.append(date)\n",
        "\n",
        "# Calculate the number of earthquakes at each magnitude\n",
        "num_eqs = []\n",
        "magnitudes_unique = sorted(set(magnitudes))  # Unique magnitudes in ascending order\n",
        "#magnitude_unique = pd.cut(magnitudes_unique, 6, right=True, ordered=True)\n",
        "magnitude_unique = pd.cut(magnitudes_unique, bins=[3.5, 4.5, 5.5, 6.5, 7.5, 8.5, 9.5], include_lowest=True)\n",
        "final_magnitude = sorted(set(magnitude_unique))\n",
        "print(magnitude_unique)\n",
        "for mag in magnitudes_unique:\n",
        "    count = len([m for m in magnitudes if m==mag])\n",
        "    num_eqs.append(count)\n",
        "\n",
        "# Create a DataFrame\n",
        "df = pd.DataFrame({'Magnitudes': magnitude_unique, 'Number_of_Earthquakes':num_eqs})\n",
        "agg_functions = {'Number_of_Earthquakes': 'sum'}\n",
        "df3 = df.groupby(df['Magnitudes']).aggregate(agg_functions)\n",
        "df3.reset_index(level=0, inplace=True)\n",
        "# Print the DataFrame\n",
        "print(df3)"
      ],
      "metadata": {
        "colab": {
          "base_uri": "https://localhost:8080/"
        },
        "id": "mLGQIKJg7YKI",
        "outputId": "c2cb407c-6569-4785-c64a-ae0d64ef7640"
      },
      "execution_count": null,
      "outputs": [
        {
          "output_type": "stream",
          "name": "stdout",
          "text": [
            "[(3.499, 4.5], (3.499, 4.5], (3.499, 4.5], (3.499, 4.5], (3.499, 4.5], ..., (6.5, 7.5], (7.5, 8.5], (7.5, 8.5], (7.5, 8.5], (7.5, 8.5]]\n",
            "Length: 103\n",
            "Categories (6, interval[float64, right]): [(3.499, 4.5] < (4.5, 5.5] < (5.5, 6.5] < (6.5, 7.5] <\n",
            "                                           (7.5, 8.5] < (8.5, 9.5]]\n",
            "     Magnitudes  Number_of_Earthquakes\n",
            "0  (3.499, 4.5]                  12307\n",
            "1    (4.5, 5.5]                   5824\n",
            "2    (5.5, 6.5]                    352\n",
            "3    (6.5, 7.5]                     35\n",
            "4    (7.5, 8.5]                      4\n",
            "5    (8.5, 9.5]                      0\n"
          ]
        }
      ]
    },
    {
      "cell_type": "code",
      "source": [
        "import pandas as pd\n",
        "client = Client(\"USGS\")\n",
        "start_date = UTCDateTime(\"2015-01-01\")\n",
        "end_date = UTCDateTime(\"2015-12-31\")\n",
        "min_magnitude = 3.5\n",
        "max_magnitude = 9.5\n",
        "\n",
        "# Retrieve earthquake data\n",
        "catalog = client.get_events(starttime=start_date, endtime=end_date, minmagnitude=min_magnitude, maxmagnitude=max_magnitude)\n",
        "\n",
        "# Initialize lists for storing data\n",
        "magnitudes = []\n",
        "dates = []\n",
        "\n",
        "# Extract magnitudes and dates\n",
        "for event in catalog:\n",
        "    magnitude = event.magnitudes[0].mag\n",
        "    date = UTCDateTime(event.origins[0].time)\n",
        "    magnitudes.append(magnitude)\n",
        "    dates.append(date)\n",
        "\n",
        "# Calculate the number of earthquakes at each magnitude\n",
        "num_eqs = []\n",
        "magnitudes_unique = sorted(set(magnitudes))  # Unique magnitudes in ascending order\n",
        "magnitude_unique = pd.cut(magnitudes_unique, bins=[3.5, 4.5, 5.5, 6.5, 7.5, 8.5, 9.5], include_lowest=True)\n",
        "final_magnitude = sorted(set(magnitude_unique))\n",
        "print(magnitude_unique)\n",
        "for mag in magnitudes_unique:\n",
        "    count = len([m for m in magnitudes if m==mag])\n",
        "    num_eqs.append(count)\n",
        "\n",
        "# Create a DataFrame\n",
        "df = pd.DataFrame({'Magnitudes': magnitude_unique, 'Number_of_Earthquakes':num_eqs})\n",
        "agg_functions = {'Number_of_Earthquakes': 'sum'}\n",
        "df4 = df.groupby(df['Magnitudes']).aggregate(agg_functions)\n",
        "df4.reset_index(level=0, inplace=True)\n",
        "# Print the DataFrame\n",
        "print(df4)"
      ],
      "metadata": {
        "colab": {
          "base_uri": "https://localhost:8080/"
        },
        "id": "FrhbYKTA7gWZ",
        "outputId": "e42afe67-f06c-48a2-f94c-c67a00931884"
      },
      "execution_count": null,
      "outputs": [
        {
          "output_type": "stream",
          "name": "stdout",
          "text": [
            "[(3.499, 4.5], (3.499, 4.5], (3.499, 4.5], (3.499, 4.5], (3.499, 4.5], ..., (6.5, 7.5], (6.5, 7.5], (7.5, 8.5], (7.5, 8.5], (7.5, 8.5]]\n",
            "Length: 97\n",
            "Categories (6, interval[float64, right]): [(3.499, 4.5] < (4.5, 5.5] < (5.5, 6.5] < (6.5, 7.5] <\n",
            "                                           (7.5, 8.5] < (8.5, 9.5]]\n",
            "     Magnitudes  Number_of_Earthquakes\n",
            "0  (3.499, 4.5]                  11124\n",
            "1    (4.5, 5.5]                   4960\n",
            "2    (5.5, 6.5]                    309\n",
            "3    (6.5, 7.5]                     43\n",
            "4    (7.5, 8.5]                      5\n",
            "5    (8.5, 9.5]                      0\n"
          ]
        }
      ]
    },
    {
      "cell_type": "code",
      "source": [
        "import pandas as pd\n",
        "client = Client(\"USGS\")\n",
        "start_date = UTCDateTime(\"2016-01-01\")\n",
        "end_date = UTCDateTime(\"2016-12-31\")\n",
        "min_magnitude = 3.5\n",
        "max_magnitude = 9.5\n",
        "\n",
        "# Retrieve earthquake data\n",
        "catalog = client.get_events(starttime=start_date, endtime=end_date, minmagnitude=min_magnitude, maxmagnitude=max_magnitude)\n",
        "\n",
        "# Initialize lists for storing data\n",
        "magnitudes = []\n",
        "dates = []\n",
        "\n",
        "# Extract magnitudes and dates\n",
        "for event in catalog:\n",
        "    magnitude = event.magnitudes[0].mag\n",
        "    date = UTCDateTime(event.origins[0].time)\n",
        "    magnitudes.append(magnitude)\n",
        "    dates.append(date)\n",
        "\n",
        "# Calculate the number of earthquakes at each magnitude\n",
        "num_eqs = []\n",
        "magnitudes_unique = sorted(set(magnitudes))  # Unique magnitudes in ascending order\n",
        "magnitude_unique = pd.cut(magnitudes_unique, bins=[3.5, 4.5, 5.5, 6.5, 7.5, 8.5, 9.5], include_lowest=True)\n",
        "final_magnitude = sorted(set(magnitude_unique))\n",
        "print(magnitude_unique)\n",
        "for mag in magnitudes_unique:\n",
        "    count = len([m for m in magnitudes if m==mag])\n",
        "    num_eqs.append(count)\n",
        "\n",
        "# Create a DataFrame\n",
        "df = pd.DataFrame({'Magnitudes': magnitude_unique, 'Number_of_Earthquakes':num_eqs})\n",
        "agg_functions = {'Number_of_Earthquakes': 'sum'}\n",
        "df5 = df.groupby(df['Magnitudes']).aggregate(agg_functions)\n",
        "df5.reset_index(level=0, inplace=True)\n",
        "# Print the DataFrame\n",
        "print(df5)"
      ],
      "metadata": {
        "colab": {
          "base_uri": "https://localhost:8080/"
        },
        "id": "0G5K9IiF7lla",
        "outputId": "133366cd-884c-4037-a82d-bb22cd6c7521"
      },
      "execution_count": null,
      "outputs": [
        {
          "output_type": "stream",
          "name": "stdout",
          "text": [
            "[(3.499, 4.5], (3.499, 4.5], (3.499, 4.5], (3.499, 4.5], (3.499, 4.5], ..., (6.5, 7.5], (7.5, 8.5], (7.5, 8.5], (7.5, 8.5], (7.5, 8.5]]\n",
            "Length: 101\n",
            "Categories (6, interval[float64, right]): [(3.499, 4.5] < (4.5, 5.5] < (5.5, 6.5] < (6.5, 7.5] <\n",
            "                                           (7.5, 8.5] < (8.5, 9.5]]\n",
            "     Magnitudes  Number_of_Earthquakes\n",
            "0  (3.499, 4.5]                  10969\n",
            "1    (4.5, 5.5]                   5143\n",
            "2    (5.5, 6.5]                    334\n",
            "3    (6.5, 7.5]                     34\n",
            "4    (7.5, 8.5]                      7\n",
            "5    (8.5, 9.5]                      0\n"
          ]
        }
      ]
    },
    {
      "cell_type": "code",
      "source": [
        "import pandas as pd\n",
        "client = Client(\"USGS\")\n",
        "start_date = UTCDateTime(\"2017-01-01\")\n",
        "end_date = UTCDateTime(\"2017-12-31\")\n",
        "min_magnitude = 3.5\n",
        "max_magnitude = 9.5\n",
        "\n",
        "# Retrieve earthquake data\n",
        "catalog = client.get_events(starttime=start_date, endtime=end_date, minmagnitude=min_magnitude, maxmagnitude=max_magnitude)\n",
        "\n",
        "# Initialize lists for storing data\n",
        "magnitudes = []\n",
        "dates = []\n",
        "\n",
        "# Extract magnitudes and dates\n",
        "for event in catalog:\n",
        "    magnitude = event.magnitudes[0].mag\n",
        "    date = UTCDateTime(event.origins[0].time)\n",
        "    magnitudes.append(magnitude)\n",
        "    dates.append(date)\n",
        "\n",
        "# Calculate the number of earthquakes at each magnitude\n",
        "num_eqs = []\n",
        "magnitudes_unique = sorted(set(magnitudes))  # Unique magnitudes in ascending order\n",
        "magnitude_unique = pd.cut(magnitudes_unique, bins=[3.5, 4.5, 5.5, 6.5, 7.5, 8.5, 9.5], include_lowest=True)\n",
        "final_magnitude = sorted(set(magnitude_unique))\n",
        "print(magnitude_unique)\n",
        "for mag in magnitudes_unique:\n",
        "    count = len([m for m in magnitudes if m==mag])\n",
        "    num_eqs.append(count)\n",
        "\n",
        "# Create a DataFrame\n",
        "df = pd.DataFrame({'Magnitudes': magnitude_unique, 'Number_of_Earthquakes':num_eqs})\n",
        "agg_functions = {'Number_of_Earthquakes': 'sum'}\n",
        "df6 = df.groupby(df['Magnitudes']).aggregate(agg_functions)\n",
        "df6.reset_index(level=0, inplace=True)\n",
        "# Print the DataFrame\n",
        "print(df6)"
      ],
      "metadata": {
        "colab": {
          "base_uri": "https://localhost:8080/"
        },
        "id": "YCsZPPzk8CKj",
        "outputId": "4bab00a3-1b2b-4332-f186-aa26aa3d013d"
      },
      "execution_count": null,
      "outputs": [
        {
          "output_type": "stream",
          "name": "stdout",
          "text": [
            "[(3.499, 4.5], (3.499, 4.5], (3.499, 4.5], (3.499, 4.5], (3.499, 4.5], ..., (6.5, 7.5], (6.5, 7.5], (7.5, 8.5], (7.5, 8.5], (7.5, 8.5]]\n",
            "Length: 101\n",
            "Categories (6, interval[float64, right]): [(3.499, 4.5] < (4.5, 5.5] < (5.5, 6.5] < (6.5, 7.5] <\n",
            "                                           (7.5, 8.5] < (8.5, 9.5]]\n",
            "     Magnitudes  Number_of_Earthquakes\n",
            "0  (3.499, 4.5]                   9369\n",
            "1    (4.5, 5.5]                   4538\n",
            "2    (5.5, 6.5]                    274\n",
            "3    (6.5, 7.5]                     23\n",
            "4    (7.5, 8.5]                      3\n",
            "5    (8.5, 9.5]                      0\n"
          ]
        }
      ]
    },
    {
      "cell_type": "code",
      "source": [
        "import pandas as pd\n",
        "client = Client(\"USGS\")\n",
        "start_date = UTCDateTime(\"2018-01-01\")\n",
        "end_date = UTCDateTime(\"2018-12-31\")\n",
        "min_magnitude = 3.5\n",
        "max_magnitude = 9.5\n",
        "\n",
        "# Retrieve earthquake data\n",
        "catalog = client.get_events(starttime=start_date, endtime=end_date, minmagnitude=min_magnitude, maxmagnitude=max_magnitude)\n",
        "\n",
        "# Initialize lists for storing data\n",
        "magnitudes = []\n",
        "dates = []\n",
        "\n",
        "# Extract magnitudes and dates\n",
        "for event in catalog:\n",
        "    magnitude = event.magnitudes[0].mag\n",
        "    date = UTCDateTime(event.origins[0].time)\n",
        "    magnitudes.append(magnitude)\n",
        "    dates.append(date)\n",
        "\n",
        "# Calculate the number of earthquakes at each magnitude\n",
        "num_eqs = []\n",
        "magnitudes_unique = sorted(set(magnitudes))  # Unique magnitudes in ascending order\n",
        "magnitude_unique = pd.cut(magnitudes_unique, bins=[3.5, 4.5, 5.5, 6.5, 7.5, 8.5, 9.5], include_lowest=True)\n",
        "final_magnitude = sorted(set(magnitude_unique))\n",
        "print(magnitude_unique)\n",
        "for mag in magnitudes_unique:\n",
        "    count = len([m for m in magnitudes if m==mag])\n",
        "    num_eqs.append(count)\n",
        "\n",
        "# Create a DataFrame\n",
        "df = pd.DataFrame({'Magnitudes': magnitude_unique, 'Number_of_Earthquakes':num_eqs})\n",
        "agg_functions = {'Number_of_Earthquakes': 'sum'}\n",
        "df7 = df.groupby(df['Magnitudes']).aggregate(agg_functions)\n",
        "df7.reset_index(level=0, inplace=True)\n",
        "# Print the DataFrame\n",
        "print(df7)"
      ],
      "metadata": {
        "colab": {
          "base_uri": "https://localhost:8080/"
        },
        "id": "l0IyjIFuBcJz",
        "outputId": "1cfc0256-208c-448b-8284-819cdd47de69"
      },
      "execution_count": null,
      "outputs": [
        {
          "output_type": "stream",
          "name": "stdout",
          "text": [
            "[(3.499, 4.5], (3.499, 4.5], (3.499, 4.5], (3.499, 4.5], (3.499, 4.5], ..., (6.5, 7.5], (6.5, 7.5], (6.5, 7.5], (7.5, 8.5], (7.5, 8.5]]\n",
            "Length: 132\n",
            "Categories (6, interval[float64, right]): [(3.499, 4.5] < (4.5, 5.5] < (5.5, 6.5] < (6.5, 7.5] <\n",
            "                                           (7.5, 8.5] < (8.5, 9.5]]\n",
            "     Magnitudes  Number_of_Earthquakes\n",
            "0  (3.499, 4.5]                  10767\n",
            "1    (4.5, 5.5]                   5311\n",
            "2    (5.5, 6.5]                    340\n",
            "3    (6.5, 7.5]                     32\n",
            "4    (7.5, 8.5]                      3\n",
            "5    (8.5, 9.5]                      0\n"
          ]
        }
      ]
    },
    {
      "cell_type": "code",
      "source": [
        "import pandas as pd\n",
        "client = Client(\"USGS\")\n",
        "start_date = UTCDateTime(\"2019-01-01\")\n",
        "end_date = UTCDateTime(\"2019-12-31\")\n",
        "min_magnitude = 3.5\n",
        "max_magnitude = 9.5\n",
        "\n",
        "# Retrieve earthquake data\n",
        "catalog = client.get_events(starttime=start_date, endtime=end_date, minmagnitude=min_magnitude, maxmagnitude=max_magnitude)\n",
        "\n",
        "# Initialize lists for storing data\n",
        "magnitudes = []\n",
        "dates = []\n",
        "\n",
        "# Extract magnitudes and dates\n",
        "for event in catalog:\n",
        "    magnitude = event.magnitudes[0].mag\n",
        "    date = UTCDateTime(event.origins[0].time)\n",
        "    magnitudes.append(magnitude)\n",
        "    dates.append(date)\n",
        "\n",
        "# Calculate the number of earthquakes at each magnitude\n",
        "num_eqs = []\n",
        "magnitudes_unique = sorted(set(magnitudes))  # Unique magnitudes in ascending order\n",
        "magnitude_unique = pd.cut(magnitudes_unique, bins=[3.5, 4.5, 5.5, 6.5, 7.5, 8.5, 9.5], include_lowest=True)\n",
        "final_magnitude = sorted(set(magnitude_unique))\n",
        "print(magnitude_unique)\n",
        "for mag in magnitudes_unique:\n",
        "    count = len([m for m in magnitudes if m==mag])\n",
        "    num_eqs.append(count)\n",
        "\n",
        "# Create a DataFrame\n",
        "df = pd.DataFrame({'Magnitudes': magnitude_unique, 'Number_of_Earthquakes':num_eqs})\n",
        "agg_functions = {'Number_of_Earthquakes': 'sum'}\n",
        "df8 = df.groupby(df['Magnitudes']).aggregate(agg_functions)\n",
        "df8.reset_index(level=0, inplace=True)\n",
        "# Print the DataFrame\n",
        "print(df8)"
      ],
      "metadata": {
        "colab": {
          "base_uri": "https://localhost:8080/"
        },
        "id": "B1k5r5-VBiYW",
        "outputId": "01c23a98-c8f0-480e-dee3-e6c4a9a96c36"
      },
      "execution_count": null,
      "outputs": [
        {
          "output_type": "stream",
          "name": "stdout",
          "text": [
            "[(3.499, 4.5], (3.499, 4.5], (3.499, 4.5], (3.499, 4.5], (3.499, 4.5], ..., (6.5, 7.5], (6.5, 7.5], (6.5, 7.5], (7.5, 8.5], (7.5, 8.5]]\n",
            "Length: 158\n",
            "Categories (6, interval[float64, right]): [(3.499, 4.5] < (4.5, 5.5] < (5.5, 6.5] < (6.5, 7.5] <\n",
            "                                           (7.5, 8.5] < (8.5, 9.5]]\n",
            "     Magnitudes  Number_of_Earthquakes\n",
            "0  (3.499, 4.5]                   9250\n",
            "1    (4.5, 5.5]                   5098\n",
            "2    (5.5, 6.5]                    316\n",
            "3    (6.5, 7.5]                     27\n",
            "4    (7.5, 8.5]                      2\n",
            "5    (8.5, 9.5]                      0\n"
          ]
        }
      ]
    },
    {
      "cell_type": "code",
      "source": [
        "import pandas as pd\n",
        "client = Client(\"USGS\")\n",
        "start_date = UTCDateTime(\"2020-01-01\")\n",
        "end_date = UTCDateTime(\"2020-12-31\")\n",
        "min_magnitude = 3.5\n",
        "max_magnitude = 9.5\n",
        "\n",
        "# Retrieve earthquake data\n",
        "catalog = client.get_events(starttime=start_date, endtime=end_date, minmagnitude=min_magnitude, maxmagnitude=max_magnitude)\n",
        "\n",
        "# Initialize lists for storing data\n",
        "magnitudes = []\n",
        "dates = []\n",
        "\n",
        "# Extract magnitudes and dates\n",
        "for event in catalog:\n",
        "    magnitude = event.magnitudes[0].mag\n",
        "    date = UTCDateTime(event.origins[0].time)\n",
        "    magnitudes.append(magnitude)\n",
        "    dates.append(date)\n",
        "\n",
        "# Calculate the number of earthquakes at each magnitude\n",
        "num_eqs = []\n",
        "magnitudes_unique = sorted(set(magnitudes))  # Unique magnitudes in ascending order\n",
        "magnitude_unique = pd.cut(magnitudes_unique, bins=[3.5, 4.5, 5.5, 6.5, 7.5, 8.5, 9.5], include_lowest=True)\n",
        "final_magnitude = sorted(set(magnitude_unique))\n",
        "print(magnitude_unique)\n",
        "for mag in magnitudes_unique:\n",
        "    count = len([m for m in magnitudes if m==mag])\n",
        "    num_eqs.append(count)\n",
        "\n",
        "# Create a DataFrame\n",
        "df = pd.DataFrame({'Magnitudes': magnitude_unique, 'Number_of_Earthquakes':num_eqs})\n",
        "agg_functions = {'Number_of_Earthquakes': 'sum'}\n",
        "df9 = df.groupby(df['Magnitudes']).aggregate(agg_functions)\n",
        "df9.reset_index(level=0, inplace=True)\n",
        "# Print the DataFrame\n",
        "print(df9)"
      ],
      "metadata": {
        "colab": {
          "base_uri": "https://localhost:8080/"
        },
        "id": "V-nmo8REBiSN",
        "outputId": "ac6b1037-e6ec-424f-f638-e01b53ee010f"
      },
      "execution_count": null,
      "outputs": [
        {
          "output_type": "stream",
          "name": "stdout",
          "text": [
            "[(3.499, 4.5], (3.499, 4.5], (3.499, 4.5], (3.499, 4.5], (3.499, 4.5], ..., (6.5, 7.5], (6.5, 7.5], (7.5, 8.5], (7.5, 8.5], (7.5, 8.5]]\n",
            "Length: 137\n",
            "Categories (6, interval[float64, right]): [(3.499, 4.5] < (4.5, 5.5] < (5.5, 6.5] < (6.5, 7.5] <\n",
            "                                           (7.5, 8.5] < (8.5, 9.5]]\n",
            "     Magnitudes  Number_of_Earthquakes\n",
            "0  (3.499, 4.5]                  10878\n",
            "1    (4.5, 5.5]                   4503\n",
            "2    (5.5, 6.5]                    296\n",
            "3    (6.5, 7.5]                     21\n",
            "4    (7.5, 8.5]                      3\n",
            "5    (8.5, 9.5]                      0\n"
          ]
        }
      ]
    },
    {
      "cell_type": "code",
      "source": [
        "df_f = pd.concat([df1, df2, df3, df4, df5, df6, df7, df8, df9])\n",
        "df_f.reset_index(level=0, inplace=True)\n",
        "print(df_f)"
      ],
      "metadata": {
        "colab": {
          "base_uri": "https://localhost:8080/"
        },
        "id": "6LHGDI33InXk",
        "outputId": "a123ea70-3854-4170-cffd-d34fc04c0bae"
      },
      "execution_count": null,
      "outputs": [
        {
          "output_type": "stream",
          "name": "stdout",
          "text": [
            "    index    Magnitudes  Number_of_Earthquakes\n",
            "0       0  (3.499, 4.5]                   7475\n",
            "1       1    (4.5, 5.5]                   5402\n",
            "2       2    (5.5, 6.5]                    313\n",
            "3       3    (6.5, 7.5]                     30\n",
            "4       4    (7.5, 8.5]                      5\n",
            "5       5    (8.5, 9.5]                      1\n",
            "6       0  (3.499, 4.5]                   8521\n",
            "7       1    (4.5, 5.5]                   5244\n",
            "8       2    (5.5, 6.5]                    297\n",
            "9       3    (6.5, 7.5]                     39\n",
            "10      4    (7.5, 8.5]                      5\n",
            "11      5    (8.5, 9.5]                      0\n",
            "12      0  (3.499, 4.5]                  12307\n",
            "13      1    (4.5, 5.5]                   5824\n",
            "14      2    (5.5, 6.5]                    352\n",
            "15      3    (6.5, 7.5]                     35\n",
            "16      4    (7.5, 8.5]                      4\n",
            "17      5    (8.5, 9.5]                      0\n",
            "18      0  (3.499, 4.5]                  11124\n",
            "19      1    (4.5, 5.5]                   4960\n",
            "20      2    (5.5, 6.5]                    309\n",
            "21      3    (6.5, 7.5]                     43\n",
            "22      4    (7.5, 8.5]                      5\n",
            "23      5    (8.5, 9.5]                      0\n",
            "24      0  (3.499, 4.5]                  10969\n",
            "25      1    (4.5, 5.5]                   5143\n",
            "26      2    (5.5, 6.5]                    334\n",
            "27      3    (6.5, 7.5]                     34\n",
            "28      4    (7.5, 8.5]                      7\n",
            "29      5    (8.5, 9.5]                      0\n",
            "30      0  (3.499, 4.5]                   9369\n",
            "31      1    (4.5, 5.5]                   4538\n",
            "32      2    (5.5, 6.5]                    274\n",
            "33      3    (6.5, 7.5]                     23\n",
            "34      4    (7.5, 8.5]                      3\n",
            "35      5    (8.5, 9.5]                      0\n",
            "36      0  (3.499, 4.5]                  10767\n",
            "37      1    (4.5, 5.5]                   5311\n",
            "38      2    (5.5, 6.5]                    340\n",
            "39      3    (6.5, 7.5]                     32\n",
            "40      4    (7.5, 8.5]                      3\n",
            "41      5    (8.5, 9.5]                      0\n",
            "42      0  (3.499, 4.5]                   9250\n",
            "43      1    (4.5, 5.5]                   5098\n",
            "44      2    (5.5, 6.5]                    316\n",
            "45      3    (6.5, 7.5]                     27\n",
            "46      4    (7.5, 8.5]                      2\n",
            "47      5    (8.5, 9.5]                      0\n",
            "48      0  (3.499, 4.5]                  10878\n",
            "49      1    (4.5, 5.5]                   4503\n",
            "50      2    (5.5, 6.5]                    296\n",
            "51      3    (6.5, 7.5]                     21\n",
            "52      4    (7.5, 8.5]                      3\n",
            "53      5    (8.5, 9.5]                      0\n"
          ]
        }
      ]
    },
    {
      "cell_type": "code",
      "source": [
        "agg_functions = {'Number_of_Earthquakes':'sum'}\n",
        "df_fs = df_f.groupby(df_f['Magnitudes']).aggregate(agg_functions)\n",
        "#df9.reset_index(level=0, inplace=True)\n",
        "print(df_fs)"
      ],
      "metadata": {
        "colab": {
          "base_uri": "https://localhost:8080/"
        },
        "id": "M5yzZNOLeJoq",
        "outputId": "01d43dd4-a329-49f2-b905-6d20d419acd5"
      },
      "execution_count": null,
      "outputs": [
        {
          "output_type": "stream",
          "name": "stdout",
          "text": [
            "              Number_of_Earthquakes\n",
            "Magnitudes                         \n",
            "(3.499, 4.5]                  90660\n",
            "(4.5, 5.5]                    46023\n",
            "(5.5, 6.5]                     2831\n",
            "(6.5, 7.5]                      284\n",
            "(7.5, 8.5]                       37\n",
            "(8.5, 9.5]                        1\n"
          ]
        }
      ]
    },
    {
      "cell_type": "code",
      "source": [
        "df_fs['Log'] = np.log10(df_fs['Number_of_Earthquakes'])\n",
        "#df_f = df_f.set_index('Magnitudes')\n",
        "dfs = df_fs.drop(['Number_of_Earthquakes'], axis=1)\n",
        "print(dfs)"
      ],
      "metadata": {
        "colab": {
          "base_uri": "https://localhost:8080/"
        },
        "id": "-Zi2TluWJAWS",
        "outputId": "4e439e43-0e64-4533-d7af-90e778ee8431"
      },
      "execution_count": null,
      "outputs": [
        {
          "output_type": "stream",
          "name": "stdout",
          "text": [
            "                   Log\n",
            "Magnitudes            \n",
            "(3.499, 4.5]  4.957416\n",
            "(4.5, 5.5]    4.662975\n",
            "(5.5, 6.5]    3.451940\n",
            "(6.5, 7.5]    2.453318\n",
            "(7.5, 8.5]    1.568202\n",
            "(8.5, 9.5]    0.000000\n"
          ]
        }
      ]
    },
    {
      "cell_type": "code",
      "source": [
        "dfs.shape"
      ],
      "metadata": {
        "colab": {
          "base_uri": "https://localhost:8080/"
        },
        "id": "92T6pKB9XOSX",
        "outputId": "568ac10c-1bf3-4917-cb0d-69ac3490a58e"
      },
      "execution_count": null,
      "outputs": [
        {
          "output_type": "execute_result",
          "data": {
            "text/plain": [
              "(6, 1)"
            ]
          },
          "metadata": {},
          "execution_count": 24
        }
      ]
    },
    {
      "cell_type": "code",
      "source": [
        "df_fs.reset_index(level=0, inplace=True)"
      ],
      "metadata": {
        "id": "RdjXlENiXCAA"
      },
      "execution_count": null,
      "outputs": []
    },
    {
      "cell_type": "code",
      "source": [
        "print(df_fs)"
      ],
      "metadata": {
        "colab": {
          "base_uri": "https://localhost:8080/"
        },
        "id": "KLlWtkAlK-4L",
        "outputId": "46512ada-5d9a-43d3-b6c9-b4e6ab8647cb"
      },
      "execution_count": null,
      "outputs": [
        {
          "output_type": "stream",
          "name": "stdout",
          "text": [
            "     Magnitudes  Number_of_Earthquakes       Log\n",
            "0  (3.499, 4.5]                  90660  4.957416\n",
            "1    (4.5, 5.5]                  46023  4.662975\n",
            "2    (5.5, 6.5]                   2831  3.451940\n",
            "3    (6.5, 7.5]                    284  2.453318\n",
            "4    (7.5, 8.5]                     37  1.568202\n",
            "5    (8.5, 9.5]                      1  0.000000\n"
          ]
        }
      ]
    },
    {
      "cell_type": "code",
      "source": [
        "import seaborn as sns\n",
        "sns.catplot(x=\"Magnitudes\", y=\"Log\", kind=\"swarm\", data=df_fs)\n",
        "plt.title(\"Gutenberg-Richter Plot for 2012-2020\")"
      ],
      "metadata": {
        "colab": {
          "base_uri": "https://localhost:8080/",
          "height": 546
        },
        "id": "2FNxw9rBKxgO",
        "outputId": "324f4d61-4c3e-423d-9723-9b769e6bdcb4"
      },
      "execution_count": null,
      "outputs": [
        {
          "output_type": "execute_result",
          "data": {
            "text/plain": [
              "Text(0.5, 1.0, 'Gutenberg-Richter Plot for 2012-2020')"
            ]
          },
          "metadata": {},
          "execution_count": 80
        },
        {
          "output_type": "display_data",
          "data": {
            "text/plain": [
              "<Figure size 500x500 with 1 Axes>"
            ],
            "image/png": "[encoded data removed]"
          },
          "metadata": {}
        }
      ]
    },
    {
      "cell_type": "code",
      "source": [
        "separate_dataframes = [df1, df2, df3, df4, df5, df6, df7, df8, df9]"
      ],
      "metadata": {
        "id": "JY8N9FFaNYnk"
      },
      "execution_count": null,
      "outputs": []
    },
    {
      "cell_type": "code",
      "source": [
        "separate_dataframes"
      ],
      "metadata": {
        "colab": {
          "base_uri": "https://localhost:8080/"
        },
        "id": "SjnGXfj25uJ1",
        "outputId": "c471f3b8-d5b5-443b-d43c-efa481306a7f"
      },
      "execution_count": null,
      "outputs": [
        {
          "output_type": "execute_result",
          "data": {
            "text/plain": [
              "[     Magnitudes  Number_of_Earthquakes\n",
              " 0  (3.499, 4.5]                   7475\n",
              " 1    (4.5, 5.5]                   5402\n",
              " 2    (5.5, 6.5]                    313\n",
              " 3    (6.5, 7.5]                     30\n",
              " 4    (7.5, 8.5]                      5\n",
              " 5    (8.5, 9.5]                      1,\n",
              "      Magnitudes  Number_of_Earthquakes\n",
              " 0  (3.499, 4.5]                   8521\n",
              " 1    (4.5, 5.5]                   5244\n",
              " 2    (5.5, 6.5]                    297\n",
              " 3    (6.5, 7.5]                     39\n",
              " 4    (7.5, 8.5]                      5\n",
              " 5    (8.5, 9.5]                      0,\n",
              "      Magnitudes  Number_of_Earthquakes\n",
              " 0  (3.499, 4.5]                  12307\n",
              " 1    (4.5, 5.5]                   5824\n",
              " 2    (5.5, 6.5]                    352\n",
              " 3    (6.5, 7.5]                     35\n",
              " 4    (7.5, 8.5]                      4\n",
              " 5    (8.5, 9.5]                      0,\n",
              "      Magnitudes  Number_of_Earthquakes\n",
              " 0  (3.499, 4.5]                  11124\n",
              " 1    (4.5, 5.5]                   4960\n",
              " 2    (5.5, 6.5]                    309\n",
              " 3    (6.5, 7.5]                     43\n",
              " 4    (7.5, 8.5]                      5\n",
              " 5    (8.5, 9.5]                      0,\n",
              "      Magnitudes  Number_of_Earthquakes\n",
              " 0  (3.499, 4.5]                  10969\n",
              " 1    (4.5, 5.5]                   5143\n",
              " 2    (5.5, 6.5]                    334\n",
              " 3    (6.5, 7.5]                     34\n",
              " 4    (7.5, 8.5]                      7\n",
              " 5    (8.5, 9.5]                      0,\n",
              "      Magnitudes  Number_of_Earthquakes\n",
              " 0  (3.499, 4.5]                   9369\n",
              " 1    (4.5, 5.5]                   4538\n",
              " 2    (5.5, 6.5]                    274\n",
              " 3    (6.5, 7.5]                     23\n",
              " 4    (7.5, 8.5]                      3\n",
              " 5    (8.5, 9.5]                      0,\n",
              "      Magnitudes  Number_of_Earthquakes\n",
              " 0  (3.499, 4.5]                  10767\n",
              " 1    (4.5, 5.5]                   5311\n",
              " 2    (5.5, 6.5]                    340\n",
              " 3    (6.5, 7.5]                     32\n",
              " 4    (7.5, 8.5]                      3\n",
              " 5    (8.5, 9.5]                      0,\n",
              "      Magnitudes  Number_of_Earthquakes\n",
              " 0  (3.499, 4.5]                   9250\n",
              " 1    (4.5, 5.5]                   5098\n",
              " 2    (5.5, 6.5]                    316\n",
              " 3    (6.5, 7.5]                     27\n",
              " 4    (7.5, 8.5]                      2\n",
              " 5    (8.5, 9.5]                      0,\n",
              "      Magnitudes  Number_of_Earthquakes\n",
              " 0  (3.499, 4.5]                  10878\n",
              " 1    (4.5, 5.5]                   4503\n",
              " 2    (5.5, 6.5]                    296\n",
              " 3    (6.5, 7.5]                     21\n",
              " 4    (7.5, 8.5]                      3\n",
              " 5    (8.5, 9.5]                      0]"
            ]
          },
          "metadata": {},
          "execution_count": 18
        }
      ]
    },
    {
      "cell_type": "code",
      "source": [
        "df = np.zeros([54,2])"
      ],
      "metadata": {
        "id": "RfSLhsfy-vuq"
      },
      "execution_count": null,
      "outputs": []
    },
    {
      "cell_type": "code",
      "source": [
        "year = 2011\n",
        "col = 0\n",
        "for i in range(9):\n",
        "  year+=1\n",
        "  for j in range(6):\n",
        "    #df[col][0] = separate_dataframes[i]['Magnitudes'][j]\n",
        "    df[col][0] = year\n",
        "    df[col][1] = separate_dataframes[i]['Number_of_Earthquakes'][j]\n",
        "    col+=1"
      ],
      "metadata": {
        "id": "kiZgFYFF_EYX"
      },
      "execution_count": null,
      "outputs": []
    },
    {
      "cell_type": "code",
      "source": [
        "magnitudes = df_f['Magnitudes']"
      ],
      "metadata": {
        "id": "7a2UgKclci7L"
      },
      "execution_count": null,
      "outputs": []
    },
    {
      "cell_type": "code",
      "source": [
        "df = pd.DataFrame(df,columns = ['Year','Num_of_Earthquakes'])\n",
        "df['Magnitude']= magnitudes\n",
        "#df.Magnitude = df.Magnitudes.astype(\"category\").cat.codes\n",
        "#extracted_col = df_f['Magnitudes']\n",
        "#df.insert(1, \"Magnitude\", extracted_col)\n",
        "print(df)"
      ],
      "metadata": {
        "colab": {
          "base_uri": "https://localhost:8080/"
        },
        "id": "u8AeW8VaKAdP",
        "outputId": "a3f30db5-05aa-45af-d665-83a8ae86aaad"
      },
      "execution_count": null,
      "outputs": [
        {
          "output_type": "stream",
          "name": "stdout",
          "text": [
            "      Year  Num_of_Earthquakes     Magnitude\n",
            "0   2012.0              7475.0  (3.499, 4.5]\n",
            "1   2012.0              5402.0    (4.5, 5.5]\n",
            "2   2012.0               313.0    (5.5, 6.5]\n",
            "3   2012.0                30.0    (6.5, 7.5]\n",
            "4   2012.0                 5.0    (7.5, 8.5]\n",
            "5   2012.0                 1.0    (8.5, 9.5]\n",
            "6   2013.0              8521.0  (3.499, 4.5]\n",
            "7   2013.0              5244.0    (4.5, 5.5]\n",
            "8   2013.0               297.0    (5.5, 6.5]\n",
            "9   2013.0                39.0    (6.5, 7.5]\n",
            "10  2013.0                 5.0    (7.5, 8.5]\n",
            "11  2013.0                 0.0    (8.5, 9.5]\n",
            "12  2014.0             12307.0  (3.499, 4.5]\n",
            "13  2014.0              5824.0    (4.5, 5.5]\n",
            "14  2014.0               352.0    (5.5, 6.5]\n",
            "15  2014.0                35.0    (6.5, 7.5]\n",
            "16  2014.0                 4.0    (7.5, 8.5]\n",
            "17  2014.0                 0.0    (8.5, 9.5]\n",
            "18  2015.0             11124.0  (3.499, 4.5]\n",
            "19  2015.0              4960.0    (4.5, 5.5]\n",
            "20  2015.0               309.0    (5.5, 6.5]\n",
            "21  2015.0                43.0    (6.5, 7.5]\n",
            "22  2015.0                 5.0    (7.5, 8.5]\n",
            "23  2015.0                 0.0    (8.5, 9.5]\n",
            "24  2016.0             10969.0  (3.499, 4.5]\n",
            "25  2016.0              5143.0    (4.5, 5.5]\n",
            "26  2016.0               334.0    (5.5, 6.5]\n",
            "27  2016.0                34.0    (6.5, 7.5]\n",
            "28  2016.0                 7.0    (7.5, 8.5]\n",
            "29  2016.0                 0.0    (8.5, 9.5]\n",
            "30  2017.0              9369.0  (3.499, 4.5]\n",
            "31  2017.0              4538.0    (4.5, 5.5]\n",
            "32  2017.0               274.0    (5.5, 6.5]\n",
            "33  2017.0                23.0    (6.5, 7.5]\n",
            "34  2017.0                 3.0    (7.5, 8.5]\n",
            "35  2017.0                 0.0    (8.5, 9.5]\n",
            "36  2018.0             10767.0  (3.499, 4.5]\n",
            "37  2018.0              5311.0    (4.5, 5.5]\n",
            "38  2018.0               340.0    (5.5, 6.5]\n",
            "39  2018.0                32.0    (6.5, 7.5]\n",
            "40  2018.0                 3.0    (7.5, 8.5]\n",
            "41  2018.0                 0.0    (8.5, 9.5]\n",
            "42  2019.0              9250.0  (3.499, 4.5]\n",
            "43  2019.0              5098.0    (4.5, 5.5]\n",
            "44  2019.0               316.0    (5.5, 6.5]\n",
            "45  2019.0                27.0    (6.5, 7.5]\n",
            "46  2019.0                 2.0    (7.5, 8.5]\n",
            "47  2019.0                 0.0    (8.5, 9.5]\n",
            "48  2020.0             10878.0  (3.499, 4.5]\n",
            "49  2020.0              4503.0    (4.5, 5.5]\n",
            "50  2020.0               296.0    (5.5, 6.5]\n",
            "51  2020.0                21.0    (6.5, 7.5]\n",
            "52  2020.0                 3.0    (7.5, 8.5]\n",
            "53  2020.0                 0.0    (8.5, 9.5]\n"
          ]
        }
      ]
    },
    {
      "cell_type": "code",
      "source": [
        "import seaborn as sns\n",
        "fig, ax = plt.subplots(figsize=(10, 8))\n",
        "sns.barplot(ax=ax, data=df, x='Year', y='Num_of_Earthquakes', hue = 'Magnitude', palette = 'pastel')\n",
        "plt.legend(bbox_to_anchor=(0., 1.02, 1., .102), loc='lower left',\n",
        "                      ncols=2, mode=\"expand\", borderaxespad=0.)\n",
        "ax.bar_label(ax.containers[0])\n",
        "plt.show"
      ],
      "metadata": {
        "colab": {
          "base_uri": "https://localhost:8080/",
          "height": 792
        },
        "id": "izp97wcOrRty",
        "outputId": "80e5a922-9300-483d-f833-7f1d692f8f5a"
      },
      "execution_count": null,
      "outputs": [
        {
          "output_type": "execute_result",
          "data": {
            "text/plain": [
              "<function matplotlib.pyplot.show(close=None, block=None)>"
            ]
          },
          "metadata": {},
          "execution_count": 89
        },
        {
          "output_type": "display_data",
          "data": {
            "text/plain": [
              "<Figure size 1000x800 with 1 Axes>"
            ],
            "image/png": "[encoded data removed]"
          },
          "metadata": {}
        }
      ]
    }
  ]
}
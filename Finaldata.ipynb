{
  "nbformat": 4,
  "nbformat_minor": 0,
  "metadata": {
    "colab": {
      "provenance": [],
      "authorship_tag": "ABX9TyPYPWyUhjjRy2xiZIn6Dj7G",
      "include_colab_link": true
    },
    "kernelspec": {
      "name": "python3",
      "display_name": "Python 3"
    },
    "language_info": {
      "name": "python"
    }
  },
  "cells": [
    {
      "cell_type": "markdown",
      "metadata": {
        "id": "view-in-github",
        "colab_type": "text"
      },
      "source": [
        "<a href=\"https://colab.research.google.com/github/revimathur1920/Earthquake_data_revi/blob/main/Finaldata.ipynb\" target=\"_parent\"><img src=\"https://colab.research.google.com/assets/colab-badge.svg\" alt=\"Open In Colab\"/></a>"
      ]
    },
    {
      "cell_type": "code",
      "execution_count": 2,
      "metadata": {
        "colab": {
          "base_uri": "https://localhost:8080/",
          "height": 606
        },
        "id": "QOOwHP4U7gS2",
        "outputId": "45187e59-820d-49d2-9ab8-07f7ca85f4f6"
      },
      "outputs": [
        {
          "output_type": "stream",
          "name": "stdout",
          "text": [
            "Looking in indexes: https://pypi.org/simple, https://us-python.pkg.dev/colab-wheels/public/simple/\n",
            "Collecting obspy\n",
            "  Downloading obspy-1.4.0-cp310-cp310-manylinux_2_17_x86_64.manylinux2014_x86_64.whl (14.5 MB)\n",
            "\u001b[2K     \u001b[90m━━━━━━━━━━━━━━━━━━━━━━━━━━━━━━━━━━━━━━━\u001b[0m \u001b[32m14.5/14.5 MB\u001b[0m \u001b[31m108.9 MB/s\u001b[0m eta \u001b[36m0:00:00\u001b[0m\n",
            "\u001b[?25hRequirement already satisfied: numpy>=1.20 in /usr/local/lib/python3.10/dist-packages (from obspy) (1.22.4)\n",
            "Requirement already satisfied: scipy>=1.7 in /usr/local/lib/python3.10/dist-packages (from obspy) (1.10.1)\n",
            "Requirement already satisfied: matplotlib>=3.3 in /usr/local/lib/python3.10/dist-packages (from obspy) (3.7.1)\n",
            "Requirement already satisfied: lxml in /usr/local/lib/python3.10/dist-packages (from obspy) (4.9.2)\n",
            "Requirement already satisfied: setuptools in /usr/local/lib/python3.10/dist-packages (from obspy) (67.7.2)\n",
            "Requirement already satisfied: sqlalchemy in /usr/local/lib/python3.10/dist-packages (from obspy) (2.0.16)\n",
            "Requirement already satisfied: decorator in /usr/local/lib/python3.10/dist-packages (from obspy) (4.4.2)\n",
            "Requirement already satisfied: requests in /usr/local/lib/python3.10/dist-packages (from obspy) (2.27.1)\n",
            "Requirement already satisfied: contourpy>=1.0.1 in /usr/local/lib/python3.10/dist-packages (from matplotlib>=3.3->obspy) (1.1.0)\n",
            "Requirement already satisfied: cycler>=0.10 in /usr/local/lib/python3.10/dist-packages (from matplotlib>=3.3->obspy) (0.11.0)\n",
            "Requirement already satisfied: fonttools>=4.22.0 in /usr/local/lib/python3.10/dist-packages (from matplotlib>=3.3->obspy) (4.40.0)\n",
            "Requirement already satisfied: kiwisolver>=1.0.1 in /usr/local/lib/python3.10/dist-packages (from matplotlib>=3.3->obspy) (1.4.4)\n",
            "Requirement already satisfied: packaging>=20.0 in /usr/local/lib/python3.10/dist-packages (from matplotlib>=3.3->obspy) (23.1)\n",
            "Requirement already satisfied: pillow>=6.2.0 in /usr/local/lib/python3.10/dist-packages (from matplotlib>=3.3->obspy) (8.4.0)\n",
            "Requirement already satisfied: pyparsing>=2.3.1 in /usr/local/lib/python3.10/dist-packages (from matplotlib>=3.3->obspy) (3.1.0)\n",
            "Requirement already satisfied: python-dateutil>=2.7 in /usr/local/lib/python3.10/dist-packages (from matplotlib>=3.3->obspy) (2.8.2)\n",
            "Requirement already satisfied: urllib3<1.27,>=1.21.1 in /usr/local/lib/python3.10/dist-packages (from requests->obspy) (1.26.16)\n",
            "Requirement already satisfied: certifi>=2017.4.17 in /usr/local/lib/python3.10/dist-packages (from requests->obspy) (2023.5.7)\n",
            "Requirement already satisfied: charset-normalizer~=2.0.0 in /usr/local/lib/python3.10/dist-packages (from requests->obspy) (2.0.12)\n",
            "Requirement already satisfied: idna<4,>=2.5 in /usr/local/lib/python3.10/dist-packages (from requests->obspy) (3.4)\n",
            "Requirement already satisfied: typing-extensions>=4.2.0 in /usr/local/lib/python3.10/dist-packages (from sqlalchemy->obspy) (4.6.3)\n",
            "Requirement already satisfied: greenlet!=0.4.17 in /usr/local/lib/python3.10/dist-packages (from sqlalchemy->obspy) (2.0.2)\n",
            "Requirement already satisfied: six>=1.5 in /usr/local/lib/python3.10/dist-packages (from python-dateutil>=2.7->matplotlib>=3.3->obspy) (1.16.0)\n",
            "Installing collected packages: obspy\n",
            "Successfully installed obspy-1.4.0\n"
          ]
        },
        {
          "output_type": "display_data",
          "data": {
            "application/vnd.colab-display-data+json": {
              "pip_warning": {
                "packages": [
                  "signal"
                ]
              }
            }
          },
          "metadata": {}
        }
      ],
      "source": [
        "pip install obspy"
      ]
    },
    {
      "cell_type": "code",
      "source": [
        "import matplotlib.pyplot as plt\n",
        "from obspy import read\n",
        "from obspy.core import UTCDateTime\n",
        "from obspy.clients.fdsn import Client\n",
        "import pandas as pd\n",
        "import numpy as np\n",
        "from obspy import read_inventory, read_events, UTCDateTime\n",
        "from obspy.core.event import Catalog"
      ],
      "metadata": {
        "id": "W47aU-P18mIg"
      },
      "execution_count": 1,
      "outputs": []
    },
    {
      "cell_type": "code",
      "source": [
        "import pandas as pd\n",
        "client = Client(\"USGS\")\n",
        "start_date = UTCDateTime(\"2012-01-01\")\n",
        "end_date = UTCDateTime(\"2012-12-31\")\n",
        "min_magnitude = 3.5\n",
        "max_magnitude = 9.5\n",
        "\n",
        "# Retrieve earthquake data\n",
        "catalog = client.get_events(starttime=start_date, endtime=end_date, minmagnitude=min_magnitude, maxmagnitude=max_magnitude)\n",
        "\n",
        "# Initialize lists for storing data\n",
        "magnitudes = []\n",
        "dates = []\n",
        "\n",
        "# Extract magnitudes and dates\n",
        "for event in catalog:\n",
        "    magnitude = event.magnitudes[0].mag\n",
        "    date = UTCDateTime(event.origins[0].time)\n",
        "    magnitudes.append(magnitude)\n",
        "    dates.append(date)\n",
        "\n",
        "# Calculate the number of earthquakes at each magnitude\n",
        "num_eqs = []\n",
        "magnitudes_unique = sorted(set(magnitudes))  # Unique magnitudes in ascending order\n",
        "#magnitude_unique = pd.cut(magnitudes_unique, 6, right=True, ordered=True)\n",
        "magnitude_unique = pd.cut(magnitudes_unique, bins=[3.5, 4, 4.5, 5, 5.5, 6, 6.5, 7, 7.5, 8, 8.5, 9, 9.5], include_lowest=True)\n",
        "#inal_magnitude = sorted(set(magnitude_unique))\n",
        "print(magnitude_unique)\n",
        "for mag in magnitudes_unique:\n",
        "    count = len([m for m in magnitudes if m==mag])\n",
        "    num_eqs.append(count)\n",
        "\n",
        "# Create a DataFrame\n",
        "df = pd.DataFrame({'Magnitudes': magnitude_unique, 'Number_of_Earthquakes':num_eqs})\n",
        "agg_functions = {'Number_of_Earthquakes': 'sum'}\n",
        "df1 = df.groupby(df['Magnitudes']).aggregate(agg_functions)\n",
        "df1.reset_index(level=0, inplace=True)\n",
        "# Print the DataFrame\n",
        "print(df1)"
      ],
      "metadata": {
        "id": "IQ0wrgRE8qTL",
        "colab": {
          "base_uri": "https://localhost:8080/"
        },
        "outputId": "12a6d396-397a-41e3-8a7a-8758855cf6be"
      },
      "execution_count": 2,
      "outputs": [
        {
          "output_type": "stream",
          "name": "stdout",
          "text": [
            "[(3.499, 4.0], (3.499, 4.0], (3.499, 4.0], (3.499, 4.0], (3.499, 4.0], ..., (7.5, 8.0], (7.5, 8.0], (7.5, 8.0], (8.0, 8.5], (8.5, 9.0]]\n",
            "Length: 123\n",
            "Categories (12, interval[float64, right]): [(3.499, 4.0] < (4.0, 4.5] < (4.5, 5.0] < (5.0, 5.5] < ... <\n",
            "                                            (7.5, 8.0] < (8.0, 8.5] < (8.5, 9.0] < (9.0, 9.5]]\n",
            "      Magnitudes  Number_of_Earthquakes\n",
            "0   (3.499, 4.0]                   1595\n",
            "1     (4.0, 4.5]                   5880\n",
            "2     (4.5, 5.0]                   4480\n",
            "3     (5.0, 5.5]                    922\n",
            "4     (5.5, 6.0]                    244\n",
            "5     (6.0, 6.5]                     69\n",
            "6     (6.5, 7.0]                     21\n",
            "7     (7.0, 7.5]                      9\n",
            "8     (7.5, 8.0]                      4\n",
            "9     (8.0, 8.5]                      1\n",
            "10    (8.5, 9.0]                      1\n",
            "11    (9.0, 9.5]                      0\n"
          ]
        }
      ]
    },
    {
      "cell_type": "code",
      "source": [
        "import pandas as pd\n",
        "client = Client(\"USGS\")\n",
        "start_date = UTCDateTime(\"2013-01-01\")\n",
        "end_date = UTCDateTime(\"2013-12-31\")\n",
        "min_magnitude = 3.5\n",
        "max_magnitude = 9.5\n",
        "\n",
        "# Retrieve earthquake data\n",
        "catalog = client.get_events(starttime=start_date, endtime=end_date, minmagnitude=min_magnitude, maxmagnitude=max_magnitude)\n",
        "\n",
        "# Initialize lists for storing data\n",
        "magnitudes = []\n",
        "dates = []\n",
        "\n",
        "# Extract magnitudes and dates\n",
        "for event in catalog:\n",
        "    magnitude = event.magnitudes[0].mag\n",
        "    date = UTCDateTime(event.origins[0].time)\n",
        "    magnitudes.append(magnitude)\n",
        "    dates.append(date)\n",
        "\n",
        "# Calculate the number of earthquakes at each magnitude\n",
        "num_eqs = []\n",
        "magnitudes_unique = sorted(set(magnitudes))  # Unique magnitudes in ascending order\n",
        "#magnitude_unique = pd.cut(magnitudes_unique, 6, right=True, ordered=True)\n",
        "magnitude_unique = pd.cut(magnitudes_unique, bins=[3.5, 4, 4.5, 5, 5.5, 6, 6.5, 7, 7.5, 8, 8.5, 9, 9.5], include_lowest=True)\n",
        "final_magnitude = sorted(set(magnitude_unique))\n",
        "print(magnitude_unique)\n",
        "for mag in magnitudes_unique:\n",
        "    count = len([m for m in magnitudes if m==mag])\n",
        "    num_eqs.append(count)\n",
        "\n",
        "# Create a DataFrame\n",
        "df = pd.DataFrame({'Magnitudes': magnitude_unique, 'Number_of_Earthquakes':num_eqs})\n",
        "agg_functions = {'Number_of_Earthquakes': 'sum'}\n",
        "df2 = df.groupby(df['Magnitudes']).aggregate(agg_functions)\n",
        "df2.reset_index(level=0, inplace=True)\n",
        "# Print the DataFrame\n",
        "print(df2)"
      ],
      "metadata": {
        "id": "TlXUJN9OFbch",
        "colab": {
          "base_uri": "https://localhost:8080/"
        },
        "outputId": "390870eb-72c8-439f-ffe4-c9d03d5631b5"
      },
      "execution_count": 3,
      "outputs": [
        {
          "output_type": "stream",
          "name": "stdout",
          "text": [
            "[(3.499, 4.0], (3.499, 4.0], (3.499, 4.0], (3.499, 4.0], (3.499, 4.0], ..., (7.0, 7.5], (7.0, 7.5], (7.5, 8.0], (7.5, 8.0], (8.0, 8.5]]\n",
            "Length: 100\n",
            "Categories (12, interval[float64, right]): [(3.499, 4.0] < (4.0, 4.5] < (4.5, 5.0] < (5.0, 5.5] < ... <\n",
            "                                            (7.5, 8.0] < (8.0, 8.5] < (8.5, 9.0] < (9.0, 9.5]]\n",
            "      Magnitudes  Number_of_Earthquakes\n",
            "0   (3.499, 4.0]                   1554\n",
            "1     (4.0, 4.5]                   6967\n",
            "2     (4.5, 5.0]                   4381\n",
            "3     (5.0, 5.5]                    863\n",
            "4     (5.5, 6.0]                    232\n",
            "5     (6.0, 6.5]                     65\n",
            "6     (6.5, 7.0]                     29\n",
            "7     (7.0, 7.5]                     10\n",
            "8     (7.5, 8.0]                      4\n",
            "9     (8.0, 8.5]                      1\n",
            "10    (8.5, 9.0]                      0\n",
            "11    (9.0, 9.5]                      0\n"
          ]
        }
      ]
    },
    {
      "cell_type": "code",
      "source": [
        "import pandas as pd\n",
        "client = Client(\"USGS\")\n",
        "start_date = UTCDateTime(\"2014-01-01\")\n",
        "end_date = UTCDateTime(\"2014-12-31\")\n",
        "min_magnitude = 3.5\n",
        "max_magnitude = 9.5\n",
        "\n",
        "# Retrieve earthquake data\n",
        "catalog = client.get_events(starttime=start_date, endtime=end_date, minmagnitude=min_magnitude, maxmagnitude=max_magnitude)\n",
        "\n",
        "# Initialize lists for storing data\n",
        "magnitudes = []\n",
        "dates = []\n",
        "\n",
        "# Extract magnitudes and dates\n",
        "for event in catalog:\n",
        "    magnitude = event.magnitudes[0].mag\n",
        "    date = UTCDateTime(event.origins[0].time)\n",
        "    magnitudes.append(magnitude)\n",
        "    dates.append(date)\n",
        "\n",
        "# Calculate the number of earthquakes at each magnitude\n",
        "num_eqs = []\n",
        "magnitudes_unique = sorted(set(magnitudes))  # Unique magnitudes in ascending order\n",
        "#magnitude_unique = pd.cut(magnitudes_unique, 6, right=True, ordered=True)\n",
        "magnitude_unique = pd.cut(magnitudes_unique, bins=[3.5, 4, 4.5, 5, 5.5, 6, 6.5, 7, 7.5, 8, 8.5, 9, 9.5], include_lowest=True)\n",
        "final_magnitude = sorted(set(magnitude_unique))\n",
        "print(magnitude_unique)\n",
        "for mag in magnitudes_unique:\n",
        "    count = len([m for m in magnitudes if m==mag])\n",
        "    num_eqs.append(count)\n",
        "\n",
        "# Create a DataFrame\n",
        "df = pd.DataFrame({'Magnitudes': magnitude_unique, 'Number_of_Earthquakes':num_eqs})\n",
        "agg_functions = {'Number_of_Earthquakes': 'sum'}\n",
        "df3 = df.groupby(df['Magnitudes']).aggregate(agg_functions)\n",
        "df3.reset_index(level=0, inplace=True)\n",
        "# Print the DataFrame\n",
        "print(df3)"
      ],
      "metadata": {
        "colab": {
          "base_uri": "https://localhost:8080/"
        },
        "id": "mLGQIKJg7YKI",
        "outputId": "e76dea5e-f482-4b72-ec62-c67e1a496ad7"
      },
      "execution_count": 4,
      "outputs": [
        {
          "output_type": "stream",
          "name": "stdout",
          "text": [
            "[(3.499, 4.0], (3.499, 4.0], (3.499, 4.0], (3.499, 4.0], (3.499, 4.0], ..., (7.0, 7.5], (7.5, 8.0], (7.5, 8.0], (7.5, 8.0], (8.0, 8.5]]\n",
            "Length: 103\n",
            "Categories (12, interval[float64, right]): [(3.499, 4.0] < (4.0, 4.5] < (4.5, 5.0] < (5.0, 5.5] < ... <\n",
            "                                            (7.5, 8.0] < (8.0, 8.5] < (8.5, 9.0] < (9.0, 9.5]]\n",
            "      Magnitudes  Number_of_Earthquakes\n",
            "0   (3.499, 4.0]                   2185\n",
            "1     (4.0, 4.5]                  10122\n",
            "2     (4.5, 5.0]                   4870\n",
            "3     (5.0, 5.5]                    954\n",
            "4     (5.5, 6.0]                    268\n",
            "5     (6.0, 6.5]                     84\n",
            "6     (6.5, 7.0]                     28\n",
            "7     (7.0, 7.5]                      7\n",
            "8     (7.5, 8.0]                      3\n",
            "9     (8.0, 8.5]                      1\n",
            "10    (8.5, 9.0]                      0\n",
            "11    (9.0, 9.5]                      0\n"
          ]
        }
      ]
    },
    {
      "cell_type": "code",
      "source": [
        "import pandas as pd\n",
        "client = Client(\"USGS\")\n",
        "start_date = UTCDateTime(\"2015-01-01\")\n",
        "end_date = UTCDateTime(\"2015-12-31\")\n",
        "min_magnitude = 3.5\n",
        "max_magnitude = 9.5\n",
        "\n",
        "# Retrieve earthquake data\n",
        "catalog = client.get_events(starttime=start_date, endtime=end_date, minmagnitude=min_magnitude, maxmagnitude=max_magnitude)\n",
        "\n",
        "# Initialize lists for storing data\n",
        "magnitudes = []\n",
        "dates = []\n",
        "\n",
        "# Extract magnitudes and dates\n",
        "for event in catalog:\n",
        "    magnitude = event.magnitudes[0].mag\n",
        "    date = UTCDateTime(event.origins[0].time)\n",
        "    magnitudes.append(magnitude)\n",
        "    dates.append(date)\n",
        "\n",
        "# Calculate the number of earthquakes at each magnitude\n",
        "num_eqs = []\n",
        "magnitudes_unique = sorted(set(magnitudes))  # Unique magnitudes in ascending order\n",
        "magnitude_unique = pd.cut(magnitudes_unique, bins=[3.5, 4, 4.5, 5, 5.5, 6, 6.5, 7, 7.5, 8, 8.5, 9, 9.5], include_lowest=True)\n",
        "final_magnitude = sorted(set(magnitude_unique))\n",
        "print(magnitude_unique)\n",
        "for mag in magnitudes_unique:\n",
        "    count = len([m for m in magnitudes if m==mag])\n",
        "    num_eqs.append(count)\n",
        "\n",
        "# Create a DataFrame\n",
        "df = pd.DataFrame({'Magnitudes': magnitude_unique, 'Number_of_Earthquakes':num_eqs})\n",
        "agg_functions = {'Number_of_Earthquakes': 'sum'}\n",
        "df4 = df.groupby(df['Magnitudes']).aggregate(agg_functions)\n",
        "df4.reset_index(level=0, inplace=True)\n",
        "# Print the DataFrame\n",
        "print(df4)"
      ],
      "metadata": {
        "colab": {
          "base_uri": "https://localhost:8080/"
        },
        "id": "FrhbYKTA7gWZ",
        "outputId": "3488d765-f775-42c3-fd8a-eb9cdbe95f02"
      },
      "execution_count": 5,
      "outputs": [
        {
          "output_type": "stream",
          "name": "stdout",
          "text": [
            "[(3.499, 4.0], (3.499, 4.0], (3.499, 4.0], (3.499, 4.0], (3.499, 4.0], ..., (7.0, 7.5], (7.0, 7.5], (7.5, 8.0], (7.5, 8.0], (8.0, 8.5]]\n",
            "Length: 97\n",
            "Categories (12, interval[float64, right]): [(3.499, 4.0] < (4.0, 4.5] < (4.5, 5.0] < (5.0, 5.5] < ... <\n",
            "                                            (7.5, 8.0] < (8.0, 8.5] < (8.5, 9.0] < (9.0, 9.5]]\n",
            "      Magnitudes  Number_of_Earthquakes\n",
            "0   (3.499, 4.0]                   2153\n",
            "1     (4.0, 4.5]                   8971\n",
            "2     (4.5, 5.0]                   4098\n",
            "3     (5.0, 5.5]                    862\n",
            "4     (5.5, 6.0]                    244\n",
            "5     (6.0, 6.5]                     65\n",
            "6     (6.5, 7.0]                     34\n",
            "7     (7.0, 7.5]                      9\n",
            "8     (7.5, 8.0]                      4\n",
            "9     (8.0, 8.5]                      1\n",
            "10    (8.5, 9.0]                      0\n",
            "11    (9.0, 9.5]                      0\n"
          ]
        }
      ]
    },
    {
      "cell_type": "code",
      "source": [
        "import pandas as pd\n",
        "client = Client(\"USGS\")\n",
        "start_date = UTCDateTime(\"2016-01-01\")\n",
        "end_date = UTCDateTime(\"2016-12-31\")\n",
        "min_magnitude = 3.5\n",
        "max_magnitude = 9.5\n",
        "\n",
        "# Retrieve earthquake data\n",
        "catalog = client.get_events(starttime=start_date, endtime=end_date, minmagnitude=min_magnitude, maxmagnitude=max_magnitude)\n",
        "\n",
        "# Initialize lists for storing data\n",
        "magnitudes = []\n",
        "dates = []\n",
        "\n",
        "# Extract magnitudes and dates\n",
        "for event in catalog:\n",
        "    magnitude = event.magnitudes[0].mag\n",
        "    date = UTCDateTime(event.origins[0].time)\n",
        "    magnitudes.append(magnitude)\n",
        "    dates.append(date)\n",
        "\n",
        "# Calculate the number of earthquakes at each magnitude\n",
        "num_eqs = []\n",
        "magnitudes_unique = sorted(set(magnitudes))  # Unique magnitudes in ascending order\n",
        "magnitude_unique = pd.cut(magnitudes_unique, bins=[3.5, 4, 4.5, 5, 5.5, 6, 6.5, 7, 7.5, 8, 8.5, 9, 9.5], include_lowest=True)\n",
        "final_magnitude = sorted(set(magnitude_unique))\n",
        "print(magnitude_unique)\n",
        "for mag in magnitudes_unique:\n",
        "    count = len([m for m in magnitudes if m==mag])\n",
        "    num_eqs.append(count)\n",
        "\n",
        "# Create a DataFrame\n",
        "df = pd.DataFrame({'Magnitudes': magnitude_unique, 'Number_of_Earthquakes':num_eqs})\n",
        "agg_functions = {'Number_of_Earthquakes': 'sum'}\n",
        "df5 = df.groupby(df['Magnitudes']).aggregate(agg_functions)\n",
        "df5.reset_index(level=0, inplace=True)\n",
        "# Print the DataFrame\n",
        "print(df5)"
      ],
      "metadata": {
        "colab": {
          "base_uri": "https://localhost:8080/"
        },
        "id": "0G5K9IiF7lla",
        "outputId": "b161c4cf-860e-4a32-c748-fad74f1c87c2"
      },
      "execution_count": 7,
      "outputs": [
        {
          "output_type": "stream",
          "name": "stdout",
          "text": [
            "[(3.499, 4.0], (3.499, 4.0], (3.499, 4.0], (3.499, 4.0], (3.499, 4.0], ..., (7.0, 7.5], (7.5, 8.0], (7.5, 8.0], (7.5, 8.0], (7.5, 8.0]]\n",
            "Length: 101\n",
            "Categories (12, interval[float64, right]): [(3.499, 4.0] < (4.0, 4.5] < (4.5, 5.0] < (5.0, 5.5] < ... <\n",
            "                                            (7.5, 8.0] < (8.0, 8.5] < (8.5, 9.0] < (9.0, 9.5]]\n",
            "      Magnitudes  Number_of_Earthquakes\n",
            "0   (3.499, 4.0]                   1944\n",
            "1     (4.0, 4.5]                   9025\n",
            "2     (4.5, 5.0]                   4232\n",
            "3     (5.0, 5.5]                    911\n",
            "4     (5.5, 6.0]                    258\n",
            "5     (6.0, 6.5]                     76\n",
            "6     (6.5, 7.0]                     28\n",
            "7     (7.0, 7.5]                      6\n",
            "8     (7.5, 8.0]                      7\n",
            "9     (8.0, 8.5]                      0\n",
            "10    (8.5, 9.0]                      0\n",
            "11    (9.0, 9.5]                      0\n"
          ]
        }
      ]
    },
    {
      "cell_type": "code",
      "source": [
        "import pandas as pd\n",
        "client = Client(\"USGS\")\n",
        "start_date = UTCDateTime(\"2017-01-01\")\n",
        "end_date = UTCDateTime(\"2017-12-31\")\n",
        "min_magnitude = 3.5\n",
        "max_magnitude = 9.5\n",
        "\n",
        "# Retrieve earthquake data\n",
        "catalog = client.get_events(starttime=start_date, endtime=end_date, minmagnitude=min_magnitude, maxmagnitude=max_magnitude)\n",
        "\n",
        "# Initialize lists for storing data\n",
        "magnitudes = []\n",
        "dates = []\n",
        "\n",
        "# Extract magnitudes and dates\n",
        "for event in catalog:\n",
        "    magnitude = event.magnitudes[0].mag\n",
        "    date = UTCDateTime(event.origins[0].time)\n",
        "    magnitudes.append(magnitude)\n",
        "    dates.append(date)\n",
        "\n",
        "# Calculate the number of earthquakes at each magnitude\n",
        "num_eqs = []\n",
        "magnitudes_unique = sorted(set(magnitudes))  # Unique magnitudes in ascending order\n",
        "magnitude_unique = pd.cut(magnitudes_unique, bins=[3.5, 4, 4.5, 5, 5.5, 6, 6.5, 7, 7.5, 8, 8.5, 9, 9.5], include_lowest=True)\n",
        "final_magnitude = sorted(set(magnitude_unique))\n",
        "print(magnitude_unique)\n",
        "for mag in magnitudes_unique:\n",
        "    count = len([m for m in magnitudes if m==mag])\n",
        "    num_eqs.append(count)\n",
        "\n",
        "# Create a DataFrame\n",
        "df = pd.DataFrame({'Magnitudes': magnitude_unique, 'Number_of_Earthquakes':num_eqs})\n",
        "agg_functions = {'Number_of_Earthquakes': 'sum'}\n",
        "df6 = df.groupby(df['Magnitudes']).aggregate(agg_functions)\n",
        "df6.reset_index(level=0, inplace=True)\n",
        "# Print the DataFrame\n",
        "print(df6)"
      ],
      "metadata": {
        "colab": {
          "base_uri": "https://localhost:8080/"
        },
        "id": "YCsZPPzk8CKj",
        "outputId": "4924731a-9ca5-4f11-900a-68fdeb0d2ec1"
      },
      "execution_count": 8,
      "outputs": [
        {
          "output_type": "stream",
          "name": "stdout",
          "text": [
            "[(3.499, 4.0], (3.499, 4.0], (3.499, 4.0], (3.499, 4.0], (3.499, 4.0], ..., (7.0, 7.5], (7.0, 7.5], (7.5, 8.0], (7.5, 8.0], (8.0, 8.5]]\n",
            "Length: 101\n",
            "Categories (12, interval[float64, right]): [(3.499, 4.0] < (4.0, 4.5] < (4.5, 5.0] < (5.0, 5.5] < ... <\n",
            "                                            (7.5, 8.0] < (8.0, 8.5] < (8.5, 9.0] < (9.0, 9.5]]\n",
            "      Magnitudes  Number_of_Earthquakes\n",
            "0   (3.499, 4.0]                   1914\n",
            "1     (4.0, 4.5]                   7455\n",
            "2     (4.5, 5.0]                   3676\n",
            "3     (5.0, 5.5]                    862\n",
            "4     (5.5, 6.0]                    213\n",
            "5     (6.0, 6.5]                     61\n",
            "6     (6.5, 7.0]                     20\n",
            "7     (7.0, 7.5]                      3\n",
            "8     (7.5, 8.0]                      2\n",
            "9     (8.0, 8.5]                      1\n",
            "10    (8.5, 9.0]                      0\n",
            "11    (9.0, 9.5]                      0\n"
          ]
        }
      ]
    },
    {
      "cell_type": "code",
      "source": [
        "import pandas as pd\n",
        "client = Client(\"USGS\")\n",
        "start_date = UTCDateTime(\"2018-01-01\")\n",
        "end_date = UTCDateTime(\"2018-12-31\")\n",
        "min_magnitude = 3.5\n",
        "max_magnitude = 9.5\n",
        "\n",
        "# Retrieve earthquake data\n",
        "catalog = client.get_events(starttime=start_date, endtime=end_date, minmagnitude=min_magnitude, maxmagnitude=max_magnitude)\n",
        "\n",
        "# Initialize lists for storing data\n",
        "magnitudes = []\n",
        "dates = []\n",
        "\n",
        "# Extract magnitudes and dates\n",
        "for event in catalog:\n",
        "    magnitude = event.magnitudes[0].mag\n",
        "    date = UTCDateTime(event.origins[0].time)\n",
        "    magnitudes.append(magnitude)\n",
        "    dates.append(date)\n",
        "\n",
        "# Calculate the number of earthquakes at each magnitude\n",
        "num_eqs = []\n",
        "magnitudes_unique = sorted(set(magnitudes))  # Unique magnitudes in ascending order\n",
        "magnitude_unique = pd.cut(magnitudes_unique, bins=[3.5, 4, 4.5, 5, 5.5, 6, 6.5, 7, 7.5, 8, 8.5, 9, 9.5], include_lowest=True)\n",
        "final_magnitude = sorted(set(magnitude_unique))\n",
        "print(magnitude_unique)\n",
        "for mag in magnitudes_unique:\n",
        "    count = len([m for m in magnitudes if m==mag])\n",
        "    num_eqs.append(count)\n",
        "\n",
        "# Create a DataFrame\n",
        "df = pd.DataFrame({'Magnitudes': magnitude_unique, 'Number_of_Earthquakes':num_eqs})\n",
        "agg_functions = {'Number_of_Earthquakes': 'sum'}\n",
        "df7 = df.groupby(df['Magnitudes']).aggregate(agg_functions)\n",
        "df7.reset_index(level=0, inplace=True)\n",
        "# Print the DataFrame\n",
        "print(df7)"
      ],
      "metadata": {
        "colab": {
          "base_uri": "https://localhost:8080/"
        },
        "id": "l0IyjIFuBcJz",
        "outputId": "20272488-4281-4b30-a36d-f4377fedb04a"
      },
      "execution_count": 9,
      "outputs": [
        {
          "output_type": "stream",
          "name": "stdout",
          "text": [
            "[(3.499, 4.0], (3.499, 4.0], (3.499, 4.0], (3.499, 4.0], (3.499, 4.0], ..., (7.0, 7.5], (7.0, 7.5], (7.0, 7.5], (7.5, 8.0], (8.0, 8.5]]\n",
            "Length: 132\n",
            "Categories (12, interval[float64, right]): [(3.499, 4.0] < (4.0, 4.5] < (4.5, 5.0] < (5.0, 5.5] < ... <\n",
            "                                            (7.5, 8.0] < (8.0, 8.5] < (8.5, 9.0] < (9.0, 9.5]]\n",
            "      Magnitudes  Number_of_Earthquakes\n",
            "0   (3.499, 4.0]                   2597\n",
            "1     (4.0, 4.5]                   8170\n",
            "2     (4.5, 5.0]                   4306\n",
            "3     (5.0, 5.5]                   1005\n",
            "4     (5.5, 6.0]                    270\n",
            "5     (6.0, 6.5]                     70\n",
            "6     (6.5, 7.0]                     20\n",
            "7     (7.0, 7.5]                     12\n",
            "8     (7.5, 8.0]                      2\n",
            "9     (8.0, 8.5]                      1\n",
            "10    (8.5, 9.0]                      0\n",
            "11    (9.0, 9.5]                      0\n"
          ]
        }
      ]
    },
    {
      "cell_type": "code",
      "source": [
        "import pandas as pd\n",
        "client = Client(\"USGS\")\n",
        "start_date = UTCDateTime(\"2019-01-01\")\n",
        "end_date = UTCDateTime(\"2019-12-31\")\n",
        "min_magnitude = 3.5\n",
        "max_magnitude = 9.5\n",
        "\n",
        "# Retrieve earthquake data\n",
        "catalog = client.get_events(starttime=start_date, endtime=end_date, minmagnitude=min_magnitude, maxmagnitude=max_magnitude)\n",
        "\n",
        "# Initialize lists for storing data\n",
        "magnitudes = []\n",
        "dates = []\n",
        "\n",
        "# Extract magnitudes and dates\n",
        "for event in catalog:\n",
        "    magnitude = event.magnitudes[0].mag\n",
        "    date = UTCDateTime(event.origins[0].time)\n",
        "    magnitudes.append(magnitude)\n",
        "    dates.append(date)\n",
        "\n",
        "# Calculate the number of earthquakes at each magnitude\n",
        "num_eqs = []\n",
        "magnitudes_unique = sorted(set(magnitudes))  # Unique magnitudes in ascending order\n",
        "magnitude_unique = pd.cut(magnitudes_unique, bins=[3.5, 4, 4.5, 5, 5.5, 6, 6.5, 7, 7.5, 8, 8.5, 9, 9.5], include_lowest=True)\n",
        "final_magnitude = sorted(set(magnitude_unique))\n",
        "print(magnitude_unique)\n",
        "for mag in magnitudes_unique:\n",
        "    count = len([m for m in magnitudes if m==mag])\n",
        "    num_eqs.append(count)\n",
        "\n",
        "# Create a DataFrame\n",
        "df = pd.DataFrame({'Magnitudes': magnitude_unique, 'Number_of_Earthquakes':num_eqs})\n",
        "agg_functions = {'Number_of_Earthquakes': 'sum'}\n",
        "df8 = df.groupby(df['Magnitudes']).aggregate(agg_functions)\n",
        "df8.reset_index(level=0, inplace=True)\n",
        "# Print the DataFrame\n",
        "print(df8)"
      ],
      "metadata": {
        "colab": {
          "base_uri": "https://localhost:8080/"
        },
        "id": "B1k5r5-VBiYW",
        "outputId": "80a506c0-e48a-4279-8850-d869388977df"
      },
      "execution_count": 10,
      "outputs": [
        {
          "output_type": "stream",
          "name": "stdout",
          "text": [
            "[(3.499, 4.0], (3.499, 4.0], (3.499, 4.0], (3.499, 4.0], (3.499, 4.0], ..., (7.0, 7.5], (7.0, 7.5], (7.0, 7.5], (7.5, 8.0], (7.5, 8.0]]\n",
            "Length: 158\n",
            "Categories (12, interval[float64, right]): [(3.499, 4.0] < (4.0, 4.5] < (4.5, 5.0] < (5.0, 5.5] < ... <\n",
            "                                            (7.5, 8.0] < (8.0, 8.5] < (8.5, 9.0] < (9.0, 9.5]]\n",
            "      Magnitudes  Number_of_Earthquakes\n",
            "0   (3.499, 4.0]                   1728\n",
            "1     (4.0, 4.5]                   7522\n",
            "2     (4.5, 5.0]                   4244\n",
            "3     (5.0, 5.5]                    854\n",
            "4     (5.5, 6.0]                    241\n",
            "5     (6.0, 6.5]                     75\n",
            "6     (6.5, 7.0]                     20\n",
            "7     (7.0, 7.5]                      7\n",
            "8     (7.5, 8.0]                      2\n",
            "9     (8.0, 8.5]                      0\n",
            "10    (8.5, 9.0]                      0\n",
            "11    (9.0, 9.5]                      0\n"
          ]
        }
      ]
    },
    {
      "cell_type": "code",
      "source": [
        "import pandas as pd\n",
        "client = Client(\"USGS\")\n",
        "start_date = UTCDateTime(\"2020-01-01\")\n",
        "end_date = UTCDateTime(\"2020-12-31\")\n",
        "min_magnitude = 3.5\n",
        "max_magnitude = 9.5\n",
        "\n",
        "# Retrieve earthquake data\n",
        "catalog = client.get_events(starttime=start_date, endtime=end_date, minmagnitude=min_magnitude, maxmagnitude=max_magnitude)\n",
        "\n",
        "# Initialize lists for storing data\n",
        "magnitudes = []\n",
        "dates = []\n",
        "\n",
        "# Extract magnitudes and dates\n",
        "for event in catalog:\n",
        "    magnitude = event.magnitudes[0].mag\n",
        "    date = UTCDateTime(event.origins[0].time)\n",
        "    magnitudes.append(magnitude)\n",
        "    dates.append(date)\n",
        "\n",
        "# Calculate the number of earthquakes at each magnitude\n",
        "num_eqs = []\n",
        "magnitudes_unique = sorted(set(magnitudes))  # Unique magnitudes in ascending order\n",
        "magnitude_unique = pd.cut(magnitudes_unique, bins=[3.5, 4, 4.5, 5, 5.5, 6, 6.5, 7, 7.5, 8, 8.5, 9, 9.5], include_lowest=True)\n",
        "final_magnitude = sorted(set(magnitude_unique))\n",
        "print(magnitude_unique)\n",
        "for mag in magnitudes_unique:\n",
        "    count = len([m for m in magnitudes if m==mag])\n",
        "    num_eqs.append(count)\n",
        "\n",
        "# Create a DataFrame\n",
        "df = pd.DataFrame({'Magnitudes': magnitude_unique, 'Number_of_Earthquakes':num_eqs})\n",
        "agg_functions = {'Number_of_Earthquakes': 'sum'}\n",
        "df9 = df.groupby(df['Magnitudes']).aggregate(agg_functions)\n",
        "df9.reset_index(level=0, inplace=True)\n",
        "# Print the DataFrame\n",
        "print(df9)"
      ],
      "metadata": {
        "colab": {
          "base_uri": "https://localhost:8080/"
        },
        "id": "V-nmo8REBiSN",
        "outputId": "ce9baa15-67fa-4eff-e211-62738939d80a"
      },
      "execution_count": 11,
      "outputs": [
        {
          "output_type": "stream",
          "name": "stdout",
          "text": [
            "[(3.499, 4.0], (3.499, 4.0], (3.499, 4.0], (3.499, 4.0], (3.499, 4.0], ..., (7.0, 7.5], (7.0, 7.5], (7.5, 8.0], (7.5, 8.0], (7.5, 8.0]]\n",
            "Length: 137\n",
            "Categories (12, interval[float64, right]): [(3.499, 4.0] < (4.0, 4.5] < (4.5, 5.0] < (5.0, 5.5] < ... <\n",
            "                                            (7.5, 8.0] < (8.0, 8.5] < (8.5, 9.0] < (9.0, 9.5]]\n",
            "      Magnitudes  Number_of_Earthquakes\n",
            "0   (3.499, 4.0]                   2521\n",
            "1     (4.0, 4.5]                   8357\n",
            "2     (4.5, 5.0]                   3744\n",
            "3     (5.0, 5.5]                    759\n",
            "4     (5.5, 6.0]                    226\n",
            "5     (6.0, 6.5]                     70\n",
            "6     (6.5, 7.0]                     18\n",
            "7     (7.0, 7.5]                      3\n",
            "8     (7.5, 8.0]                      3\n",
            "9     (8.0, 8.5]                      0\n",
            "10    (8.5, 9.0]                      0\n",
            "11    (9.0, 9.5]                      0\n"
          ]
        }
      ]
    },
    {
      "cell_type": "code",
      "source": [
        "df_f = pd.concat([df1, df2, df3, df4, df5, df6, df7, df8, df9])\n",
        "df_f.reset_index(level=0, inplace=True)\n",
        "print(df_f)"
      ],
      "metadata": {
        "colab": {
          "base_uri": "https://localhost:8080/"
        },
        "id": "6LHGDI33InXk",
        "outputId": "f896ef51-f5c9-4a54-8495-318b34c17492"
      },
      "execution_count": 12,
      "outputs": [
        {
          "output_type": "stream",
          "name": "stdout",
          "text": [
            "     index    Magnitudes  Number_of_Earthquakes\n",
            "0        0  (3.499, 4.0]                   1595\n",
            "1        1    (4.0, 4.5]                   5880\n",
            "2        2    (4.5, 5.0]                   4480\n",
            "3        3    (5.0, 5.5]                    922\n",
            "4        4    (5.5, 6.0]                    244\n",
            "..     ...           ...                    ...\n",
            "103      7    (7.0, 7.5]                      3\n",
            "104      8    (7.5, 8.0]                      3\n",
            "105      9    (8.0, 8.5]                      0\n",
            "106     10    (8.5, 9.0]                      0\n",
            "107     11    (9.0, 9.5]                      0\n",
            "\n",
            "[108 rows x 3 columns]\n"
          ]
        }
      ]
    },
    {
      "cell_type": "code",
      "source": [
        "agg_functions = {'Number_of_Earthquakes':'sum'}\n",
        "df_fs = df_f.groupby(df_f['Magnitudes']).aggregate(agg_functions)\n",
        "#df9.reset_index(level=0, inplace=True)\n",
        "print(df_fs)"
      ],
      "metadata": {
        "colab": {
          "base_uri": "https://localhost:8080/"
        },
        "id": "M5yzZNOLeJoq",
        "outputId": "5c28e1ef-cae6-4844-8cb4-b5d58d6b9f01"
      },
      "execution_count": 13,
      "outputs": [
        {
          "output_type": "stream",
          "name": "stdout",
          "text": [
            "              Number_of_Earthquakes\n",
            "Magnitudes                         \n",
            "(3.499, 4.0]                  18191\n",
            "(4.0, 4.5]                    72469\n",
            "(4.5, 5.0]                    38031\n",
            "(5.0, 5.5]                     7992\n",
            "(5.5, 6.0]                     2196\n",
            "(6.0, 6.5]                      635\n",
            "(6.5, 7.0]                      218\n",
            "(7.0, 7.5]                       66\n",
            "(7.5, 8.0]                       31\n",
            "(8.0, 8.5]                        6\n",
            "(8.5, 9.0]                        1\n",
            "(9.0, 9.5]                        0\n"
          ]
        }
      ]
    },
    {
      "cell_type": "code",
      "source": [
        "df_fs['Log'] = np.log10(df_fs['Number_of_Earthquakes'])\n",
        "#df_f = df_f.set_index('Magnitudes')\n",
        "dfs = df_fs.drop(['Number_of_Earthquakes'], axis=1)\n",
        "print(dfs)"
      ],
      "metadata": {
        "colab": {
          "base_uri": "https://localhost:8080/"
        },
        "id": "-Zi2TluWJAWS",
        "outputId": "62b123df-60d3-48c6-a848-d6c22a795a71"
      },
      "execution_count": 14,
      "outputs": [
        {
          "output_type": "stream",
          "name": "stdout",
          "text": [
            "                   Log\n",
            "Magnitudes            \n",
            "(3.499, 4.0]  4.259857\n",
            "(4.0, 4.5]    4.860152\n",
            "(4.5, 5.0]    4.580138\n",
            "(5.0, 5.5]    3.902655\n",
            "(5.5, 6.0]    3.341632\n",
            "(6.0, 6.5]    2.802774\n",
            "(6.5, 7.0]    2.338456\n",
            "(7.0, 7.5]    1.819544\n",
            "(7.5, 8.0]    1.491362\n",
            "(8.0, 8.5]    0.778151\n",
            "(8.5, 9.0]    0.000000\n",
            "(9.0, 9.5]        -inf\n"
          ]
        },
        {
          "output_type": "stream",
          "name": "stderr",
          "text": [
            "/usr/local/lib/python3.10/dist-packages/pandas/core/arraylike.py:402: RuntimeWarning: divide by zero encountered in log10\n",
            "  result = getattr(ufunc, method)(*inputs, **kwargs)\n"
          ]
        }
      ]
    },
    {
      "cell_type": "code",
      "source": [
        "df_fs.reset_index(level=0, inplace=True)"
      ],
      "metadata": {
        "id": "RdjXlENiXCAA"
      },
      "execution_count": 15,
      "outputs": []
    },
    {
      "cell_type": "code",
      "source": [
        "print(df_fs)"
      ],
      "metadata": {
        "colab": {
          "base_uri": "https://localhost:8080/"
        },
        "id": "KLlWtkAlK-4L",
        "outputId": "f6b87932-e835-4cdb-e0c4-90d75e534d6f"
      },
      "execution_count": 16,
      "outputs": [
        {
          "output_type": "stream",
          "name": "stdout",
          "text": [
            "      Magnitudes  Number_of_Earthquakes       Log\n",
            "0   (3.499, 4.0]                  18191  4.259857\n",
            "1     (4.0, 4.5]                  72469  4.860152\n",
            "2     (4.5, 5.0]                  38031  4.580138\n",
            "3     (5.0, 5.5]                   7992  3.902655\n",
            "4     (5.5, 6.0]                   2196  3.341632\n",
            "5     (6.0, 6.5]                    635  2.802774\n",
            "6     (6.5, 7.0]                    218  2.338456\n",
            "7     (7.0, 7.5]                     66  1.819544\n",
            "8     (7.5, 8.0]                     31  1.491362\n",
            "9     (8.0, 8.5]                      6  0.778151\n",
            "10    (8.5, 9.0]                      1  0.000000\n",
            "11    (9.0, 9.5]                      0      -inf\n"
          ]
        }
      ]
    },
    {
      "cell_type": "code",
      "source": [
        "import seaborn as sns\n",
        "#sns.set(rc={'figure.figsize':(100,50)})\n",
        "sns.catplot(x=\"Magnitudes\", y=\"Log\", kind=\"swarm\", data=df_fs, height=5, aspect=2)\n",
        "plt.title(\"Gutenberg-Richter Plot for 2012-2020\")\n",
        "plt.show()"
      ],
      "metadata": {
        "colab": {
          "base_uri": "https://localhost:8080/",
          "height": 523
        },
        "id": "2FNxw9rBKxgO",
        "outputId": "439f0313-9db3-410b-adc5-ae4b0bf892a9"
      },
      "execution_count": 32,
      "outputs": [
        {
          "output_type": "display_data",
          "data": {
            "text/plain": [
              "<Figure size 1000x500 with 1 Axes>"
            ],
            "image/png": "[encoded data removed]"
          },
          "metadata": {}
        }
      ]
    },
    {
      "cell_type": "code",
      "source": [
        "separate_dataframes = [df1, df2, df3, df4, df5, df6, df7, df8, df9]"
      ],
      "metadata": {
        "id": "JY8N9FFaNYnk"
      },
      "execution_count": 33,
      "outputs": []
    },
    {
      "cell_type": "code",
      "source": [
        "separate_dataframes"
      ],
      "metadata": {
        "colab": {
          "base_uri": "https://localhost:8080/"
        },
        "id": "SjnGXfj25uJ1",
        "outputId": "eb9d9ec2-0501-4152-f60d-deafb04a28ce"
      },
      "execution_count": 34,
      "outputs": [
        {
          "output_type": "execute_result",
          "data": {
            "text/plain": [
              "[      Magnitudes  Number_of_Earthquakes\n",
              " 0   (3.499, 4.0]                   1595\n",
              " 1     (4.0, 4.5]                   5880\n",
              " 2     (4.5, 5.0]                   4480\n",
              " 3     (5.0, 5.5]                    922\n",
              " 4     (5.5, 6.0]                    244\n",
              " 5     (6.0, 6.5]                     69\n",
              " 6     (6.5, 7.0]                     21\n",
              " 7     (7.0, 7.5]                      9\n",
              " 8     (7.5, 8.0]                      4\n",
              " 9     (8.0, 8.5]                      1\n",
              " 10    (8.5, 9.0]                      1\n",
              " 11    (9.0, 9.5]                      0,\n",
              "       Magnitudes  Number_of_Earthquakes\n",
              " 0   (3.499, 4.0]                   1554\n",
              " 1     (4.0, 4.5]                   6967\n",
              " 2     (4.5, 5.0]                   4381\n",
              " 3     (5.0, 5.5]                    863\n",
              " 4     (5.5, 6.0]                    232\n",
              " 5     (6.0, 6.5]                     65\n",
              " 6     (6.5, 7.0]                     29\n",
              " 7     (7.0, 7.5]                     10\n",
              " 8     (7.5, 8.0]                      4\n",
              " 9     (8.0, 8.5]                      1\n",
              " 10    (8.5, 9.0]                      0\n",
              " 11    (9.0, 9.5]                      0,\n",
              "       Magnitudes  Number_of_Earthquakes\n",
              " 0   (3.499, 4.0]                   2185\n",
              " 1     (4.0, 4.5]                  10122\n",
              " 2     (4.5, 5.0]                   4870\n",
              " 3     (5.0, 5.5]                    954\n",
              " 4     (5.5, 6.0]                    268\n",
              " 5     (6.0, 6.5]                     84\n",
              " 6     (6.5, 7.0]                     28\n",
              " 7     (7.0, 7.5]                      7\n",
              " 8     (7.5, 8.0]                      3\n",
              " 9     (8.0, 8.5]                      1\n",
              " 10    (8.5, 9.0]                      0\n",
              " 11    (9.0, 9.5]                      0,\n",
              "       Magnitudes  Number_of_Earthquakes\n",
              " 0   (3.499, 4.0]                   2153\n",
              " 1     (4.0, 4.5]                   8971\n",
              " 2     (4.5, 5.0]                   4098\n",
              " 3     (5.0, 5.5]                    862\n",
              " 4     (5.5, 6.0]                    244\n",
              " 5     (6.0, 6.5]                     65\n",
              " 6     (6.5, 7.0]                     34\n",
              " 7     (7.0, 7.5]                      9\n",
              " 8     (7.5, 8.0]                      4\n",
              " 9     (8.0, 8.5]                      1\n",
              " 10    (8.5, 9.0]                      0\n",
              " 11    (9.0, 9.5]                      0,\n",
              "       Magnitudes  Number_of_Earthquakes\n",
              " 0   (3.499, 4.0]                   1944\n",
              " 1     (4.0, 4.5]                   9025\n",
              " 2     (4.5, 5.0]                   4232\n",
              " 3     (5.0, 5.5]                    911\n",
              " 4     (5.5, 6.0]                    258\n",
              " 5     (6.0, 6.5]                     76\n",
              " 6     (6.5, 7.0]                     28\n",
              " 7     (7.0, 7.5]                      6\n",
              " 8     (7.5, 8.0]                      7\n",
              " 9     (8.0, 8.5]                      0\n",
              " 10    (8.5, 9.0]                      0\n",
              " 11    (9.0, 9.5]                      0,\n",
              "       Magnitudes  Number_of_Earthquakes\n",
              " 0   (3.499, 4.0]                   1914\n",
              " 1     (4.0, 4.5]                   7455\n",
              " 2     (4.5, 5.0]                   3676\n",
              " 3     (5.0, 5.5]                    862\n",
              " 4     (5.5, 6.0]                    213\n",
              " 5     (6.0, 6.5]                     61\n",
              " 6     (6.5, 7.0]                     20\n",
              " 7     (7.0, 7.5]                      3\n",
              " 8     (7.5, 8.0]                      2\n",
              " 9     (8.0, 8.5]                      1\n",
              " 10    (8.5, 9.0]                      0\n",
              " 11    (9.0, 9.5]                      0,\n",
              "       Magnitudes  Number_of_Earthquakes\n",
              " 0   (3.499, 4.0]                   2597\n",
              " 1     (4.0, 4.5]                   8170\n",
              " 2     (4.5, 5.0]                   4306\n",
              " 3     (5.0, 5.5]                   1005\n",
              " 4     (5.5, 6.0]                    270\n",
              " 5     (6.0, 6.5]                     70\n",
              " 6     (6.5, 7.0]                     20\n",
              " 7     (7.0, 7.5]                     12\n",
              " 8     (7.5, 8.0]                      2\n",
              " 9     (8.0, 8.5]                      1\n",
              " 10    (8.5, 9.0]                      0\n",
              " 11    (9.0, 9.5]                      0,\n",
              "       Magnitudes  Number_of_Earthquakes\n",
              " 0   (3.499, 4.0]                   1728\n",
              " 1     (4.0, 4.5]                   7522\n",
              " 2     (4.5, 5.0]                   4244\n",
              " 3     (5.0, 5.5]                    854\n",
              " 4     (5.5, 6.0]                    241\n",
              " 5     (6.0, 6.5]                     75\n",
              " 6     (6.5, 7.0]                     20\n",
              " 7     (7.0, 7.5]                      7\n",
              " 8     (7.5, 8.0]                      2\n",
              " 9     (8.0, 8.5]                      0\n",
              " 10    (8.5, 9.0]                      0\n",
              " 11    (9.0, 9.5]                      0,\n",
              "       Magnitudes  Number_of_Earthquakes\n",
              " 0   (3.499, 4.0]                   2521\n",
              " 1     (4.0, 4.5]                   8357\n",
              " 2     (4.5, 5.0]                   3744\n",
              " 3     (5.0, 5.5]                    759\n",
              " 4     (5.5, 6.0]                    226\n",
              " 5     (6.0, 6.5]                     70\n",
              " 6     (6.5, 7.0]                     18\n",
              " 7     (7.0, 7.5]                      3\n",
              " 8     (7.5, 8.0]                      3\n",
              " 9     (8.0, 8.5]                      0\n",
              " 10    (8.5, 9.0]                      0\n",
              " 11    (9.0, 9.5]                      0]"
            ]
          },
          "metadata": {},
          "execution_count": 34
        }
      ]
    },
    {
      "cell_type": "code",
      "source": [
        "df = np.zeros([108,2])"
      ],
      "metadata": {
        "id": "RfSLhsfy-vuq"
      },
      "execution_count": 35,
      "outputs": []
    },
    {
      "cell_type": "code",
      "source": [
        "year = 2011\n",
        "col = 0\n",
        "for i in range(9):\n",
        "  year+=1\n",
        "  for j in range(12):\n",
        "    #df[col][0] = separate_dataframes[i]['Magnitudes'][j]\n",
        "    df[col][0] = year\n",
        "    df[col][1] = separate_dataframes[i]['Number_of_Earthquakes'][j]\n",
        "    col+=1"
      ],
      "metadata": {
        "id": "kiZgFYFF_EYX"
      },
      "execution_count": 36,
      "outputs": []
    },
    {
      "cell_type": "code",
      "source": [
        "magnitudes = df_f['Magnitudes']"
      ],
      "metadata": {
        "id": "7a2UgKclci7L"
      },
      "execution_count": 37,
      "outputs": []
    },
    {
      "cell_type": "code",
      "source": [
        "df = pd.DataFrame(df,columns = ['Year','Num_of_Earthquakes'])\n",
        "df['Magnitude']= magnitudes\n",
        "print(df)"
      ],
      "metadata": {
        "colab": {
          "base_uri": "https://localhost:8080/"
        },
        "id": "u8AeW8VaKAdP",
        "outputId": "3f197289-3e96-40a6-bfd5-140a707a5356"
      },
      "execution_count": 39,
      "outputs": [
        {
          "output_type": "stream",
          "name": "stdout",
          "text": [
            "       Year  Num_of_Earthquakes     Magnitude\n",
            "0    2012.0              1595.0  (3.499, 4.0]\n",
            "1    2012.0              5880.0    (4.0, 4.5]\n",
            "2    2012.0              4480.0    (4.5, 5.0]\n",
            "3    2012.0               922.0    (5.0, 5.5]\n",
            "4    2012.0               244.0    (5.5, 6.0]\n",
            "..      ...                 ...           ...\n",
            "103  2020.0                 3.0    (7.0, 7.5]\n",
            "104  2020.0                 3.0    (7.5, 8.0]\n",
            "105  2020.0                 0.0    (8.0, 8.5]\n",
            "106  2020.0                 0.0    (8.5, 9.0]\n",
            "107  2020.0                 0.0    (9.0, 9.5]\n",
            "\n",
            "[108 rows x 3 columns]\n"
          ]
        }
      ]
    },
    {
      "cell_type": "code",
      "source": [
        "import seaborn as sns\n",
        "fig, ax = plt.subplots(figsize=(8, 5))\n",
        "sns.barplot(ax=ax, data=df, x='Year', y='Num_of_Earthquakes', hue = 'Magnitude', palette = 'pastel')\n",
        "plt.legend(bbox_to_anchor=(0., 1.02, 1., .102), loc='lower left',\n",
        "                      ncols=2, mode=\"expand\", borderaxespad=0.)\n",
        "ax.bar_label(ax.containers[1])\n",
        "plt.show"
      ],
      "metadata": {
        "colab": {
          "base_uri": "https://localhost:8080/",
          "height": 638
        },
        "id": "izp97wcOrRty",
        "outputId": "a740a57e-b681-4656-b3ca-fad1bc106d83"
      },
      "execution_count": 41,
      "outputs": [
        {
          "output_type": "execute_result",
          "data": {
            "text/plain": [
              "<function matplotlib.pyplot.show(close=None, block=None)>"
            ]
          },
          "metadata": {},
          "execution_count": 41
        },
        {
          "output_type": "display_data",
          "data": {
            "text/plain": [
              "<Figure size 800x500 with 1 Axes>"
            ],
            "image/png": "[encoded data removed]"
          },
          "metadata": {}
        }
      ]
    }
  ]
}